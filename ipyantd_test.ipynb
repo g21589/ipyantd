{
 "cells": [
  {
   "cell_type": "markdown",
   "metadata": {
    "extensions": {
     "jupyter_dashboards": {
      "version": 1,
      "views": {
       "grid_default": {
        "col": 0,
        "height": 4,
        "hidden": false,
        "row": 0,
        "width": 4
       },
       "report_default": {
        "hidden": false
       }
      }
     }
    }
   },
   "source": [
    "# Initial"
   ]
  },
  {
   "cell_type": "code",
   "execution_count": null,
   "metadata": {
    "ExecuteTime": {
     "end_time": "2019-04-14T14:52:43.352024Z",
     "start_time": "2019-04-14T14:52:43.341023Z"
    },
    "extensions": {
     "jupyter_dashboards": {
      "version": 1,
      "views": {
       "grid_default": {
        "hidden": true
       },
       "report_default": {
        "hidden": true
       }
      }
     }
    }
   },
   "outputs": [],
   "source": [
    "import ipywidgets as widgets\n",
    "import ipyantd as antd"
   ]
  },
  {
   "cell_type": "markdown",
   "metadata": {
    "extensions": {
     "jupyter_dashboards": {
      "version": 1,
      "views": {
       "grid_default": {
        "col": 4,
        "height": 4,
        "hidden": false,
        "row": 0,
        "width": 4
       },
       "report_default": {
        "hidden": false
       }
      }
     }
    }
   },
   "source": [
    "# Widgets (Components)"
   ]
  },
  {
   "cell_type": "markdown",
   "metadata": {},
   "source": [
    "## General "
   ]
  },
  {
   "cell_type": "markdown",
   "metadata": {},
   "source": [
    "### Button"
   ]
  },
  {
   "cell_type": "code",
   "execution_count": null,
   "metadata": {
    "ExecuteTime": {
     "end_time": "2019-04-14T14:52:43.376928Z",
     "start_time": "2019-04-14T14:52:43.352992Z"
    }
   },
   "outputs": [],
   "source": [
    "widgets.HBox([\n",
    "    antd.Button(description='Primary', type='primary'),\n",
    "    antd.Button(description='Default', type='default'),\n",
    "    antd.Button(description='Dashed', type='dashed'),\n",
    "    antd.Button(description='Danger', type='danger')\n",
    "])"
   ]
  },
  {
   "cell_type": "code",
   "execution_count": null,
   "metadata": {
    "ExecuteTime": {
     "end_time": "2019-04-14T14:52:43.397872Z",
     "start_time": "2019-04-14T14:52:43.378922Z"
    }
   },
   "outputs": [],
   "source": [
    "out = widgets.Output()\n",
    "b = antd.Button(description='Show', type='primary', icon='search', size='small')\n",
    "@out.capture()\n",
    "def click(button):\n",
    "    print('Hello')\n",
    "b.on_click(click)\n",
    "widgets.VBox([b, out])"
   ]
  },
  {
   "cell_type": "markdown",
   "metadata": {},
   "source": [
    "### Icon"
   ]
  },
  {
   "cell_type": "code",
   "execution_count": null,
   "metadata": {
    "ExecuteTime": {
     "end_time": "2019-04-14T14:52:43.425796Z",
     "start_time": "2019-04-14T14:52:43.399867Z"
    }
   },
   "outputs": [],
   "source": [
    "widgets.HBox([\n",
    "    antd.Icon(type='home'),\n",
    "    antd.Icon(type='sync', spin=True),\n",
    "    antd.Icon(type='setting', spin=True),\n",
    "    antd.Icon(type='smile', rotate=180)\n",
    "])"
   ]
  },
  {
   "cell_type": "markdown",
   "metadata": {},
   "source": [
    "### Typography"
   ]
  },
  {
   "cell_type": "code",
   "execution_count": null,
   "metadata": {
    "ExecuteTime": {
     "end_time": "2019-04-14T14:52:43.490623Z",
     "start_time": "2019-04-14T14:52:43.426794Z"
    }
   },
   "outputs": [],
   "source": [
    "widgets.VBox([\n",
    "    antd.Text(content='ipyantd'),\n",
    "    antd.Text(content='ipyantd', type=\"secondary\"),\n",
    "    antd.Text(content='ipyantd', type=\"warning\"),\n",
    "    antd.Text(content='ipyantd', type=\"danger\"),\n",
    "    antd.Text(content='ipyantd', disabled=True),\n",
    "    antd.Text(content='ipyantd', mark=True),\n",
    "    antd.Text(content='ipyantd', code=True),\n",
    "    antd.Text(content='ipyantd', underline=True),\n",
    "    antd.Text(content='ipyantd', delete=True),\n",
    "    antd.Text(content='ipyantd', strong=True),\n",
    "    antd.Text(content='ipyantd', copyable=False),\n",
    "    antd.Text(content='ipyantd', editable=True),\n",
    "    antd.Text(content='ipyantd', ellipsis=True),\n",
    "])"
   ]
  },
  {
   "cell_type": "code",
   "execution_count": null,
   "metadata": {
    "ExecuteTime": {
     "end_time": "2019-04-14T14:52:43.519546Z",
     "start_time": "2019-04-14T14:52:43.492618Z"
    }
   },
   "outputs": [],
   "source": [
    "widgets.VBox([\n",
    "    antd.Title(content='H1', level=1),\n",
    "    antd.Title(content='H2', level=2),\n",
    "    antd.Title(content='H3', level=3),\n",
    "    antd.Title(content='H4', level=4)\n",
    "])"
   ]
  },
  {
   "cell_type": "code",
   "execution_count": null,
   "metadata": {
    "ExecuteTime": {
     "end_time": "2019-04-14T14:52:43.530516Z",
     "start_time": "2019-04-14T14:52:43.521543Z"
    }
   },
   "outputs": [],
   "source": [
    "antd.Paragraph(content=\"\"\"\n",
    "Ant Design, a design language for background applications, is refined by Ant UED Team.\n",
    "Ant Design, a design language for background applications, is refined by Ant UED Team.\n",
    "\"\"\")"
   ]
  },
  {
   "cell_type": "markdown",
   "metadata": {},
   "source": [
    "## Layout"
   ]
  },
  {
   "cell_type": "markdown",
   "metadata": {},
   "source": [
    "### Grid "
   ]
  },
  {
   "cell_type": "code",
   "execution_count": null,
   "metadata": {
    "ExecuteTime": {
     "end_time": "2019-04-14T14:52:43.577392Z",
     "start_time": "2019-04-14T14:52:43.532512Z"
    }
   },
   "outputs": [],
   "source": [
    "widgets.VBox([\n",
    "    antd.Row(\n",
    "        children=[\n",
    "            antd.Col(span=2, style={'height': '50px', 'background': 'rgba(0,160,233,0.7)'}),\n",
    "            antd.Col(span=10, style={'height': '50px', 'background': 'rgba(0,160,233,1)'}),\n",
    "            antd.Col(span=8, offset=1, style={'height': '50px', 'background': 'rgba(0,160,233,0.7)'}),\n",
    "            antd.Col(span=3, style={'height': '50px', 'background': 'rgba(0,160,233,1)'})\n",
    "        ]\n",
    "    ),\n",
    "    antd.Row(\n",
    "        children=[\n",
    "            antd.Col(span=5, style={'height': '50px', 'background': 'rgba(0,160,233,0.7)'}),\n",
    "            antd.Col(span=4, offset=1, style={'height': '50px', 'background': 'rgba(0,160,233,1)'}),\n",
    "            antd.Col(span=10, offset=2, style={'height': '50px', 'background': 'rgba(0,160,233,0.7)'})\n",
    "        ]\n",
    "    )\n",
    "])"
   ]
  },
  {
   "cell_type": "markdown",
   "metadata": {},
   "source": [
    "### Layout"
   ]
  },
  {
   "cell_type": "code",
   "execution_count": null,
   "metadata": {},
   "outputs": [],
   "source": []
  },
  {
   "cell_type": "markdown",
   "metadata": {},
   "source": [
    "## Navigation"
   ]
  },
  {
   "cell_type": "markdown",
   "metadata": {},
   "source": [
    "### Affix"
   ]
  },
  {
   "cell_type": "code",
   "execution_count": null,
   "metadata": {},
   "outputs": [],
   "source": []
  },
  {
   "cell_type": "markdown",
   "metadata": {},
   "source": [
    "### Breadcrumb"
   ]
  },
  {
   "cell_type": "code",
   "execution_count": null,
   "metadata": {},
   "outputs": [],
   "source": []
  },
  {
   "cell_type": "markdown",
   "metadata": {},
   "source": [
    "### Dropdown"
   ]
  },
  {
   "cell_type": "code",
   "execution_count": null,
   "metadata": {},
   "outputs": [],
   "source": []
  },
  {
   "cell_type": "markdown",
   "metadata": {},
   "source": [
    "### Menu"
   ]
  },
  {
   "cell_type": "code",
   "execution_count": null,
   "metadata": {},
   "outputs": [],
   "source": []
  },
  {
   "cell_type": "markdown",
   "metadata": {},
   "source": [
    "### Pagination"
   ]
  },
  {
   "cell_type": "code",
   "execution_count": null,
   "metadata": {},
   "outputs": [],
   "source": []
  },
  {
   "cell_type": "markdown",
   "metadata": {},
   "source": [
    "### PageHeader"
   ]
  },
  {
   "cell_type": "code",
   "execution_count": null,
   "metadata": {},
   "outputs": [],
   "source": []
  },
  {
   "cell_type": "markdown",
   "metadata": {},
   "source": [
    "### Steps"
   ]
  },
  {
   "cell_type": "code",
   "execution_count": null,
   "metadata": {
    "ExecuteTime": {
     "end_time": "2019-04-14T14:52:43.604318Z",
     "start_time": "2019-04-14T14:52:43.578389Z"
    }
   },
   "outputs": [],
   "source": [
    "step_list = [\n",
    "    antd.Step(title='AAA', description='S1'),\n",
    "    antd.Step(title='BBB', description='S2'),\n",
    "    antd.Step(title='CCC', description='S3'),\n",
    "    antd.Step(title='DDD', description='S4'),\n",
    "    antd.Step(title='EEE', description='S5')\n",
    "]\n",
    "\n",
    "steps = antd.Steps(\n",
    "    current=1, \n",
    "#    direction='vertical', \n",
    "#     label_placement='horizontal', \n",
    "#    progress_dot=True,\n",
    "    size='default',\n",
    "#     status='process',\n",
    "    initial=0,\n",
    "    children=step_list\n",
    ")\n",
    "\n",
    "steps"
   ]
  },
  {
   "cell_type": "code",
   "execution_count": null,
   "metadata": {
    "ExecuteTime": {
     "end_time": "2019-04-14T14:52:43.614292Z",
     "start_time": "2019-04-14T14:52:43.605316Z"
    }
   },
   "outputs": [],
   "source": [
    "steps.current"
   ]
  },
  {
   "cell_type": "code",
   "execution_count": null,
   "metadata": {
    "ExecuteTime": {
     "end_time": "2019-04-14T14:52:45.123473Z",
     "start_time": "2019-04-14T14:52:43.616287Z"
    }
   },
   "outputs": [],
   "source": [
    "import time\n",
    "\n",
    "for idx in range(5):\n",
    "    steps.current = idx\n",
    "    time.sleep(0.3)"
   ]
  },
  {
   "cell_type": "markdown",
   "metadata": {},
   "source": [
    "## Data Entry"
   ]
  },
  {
   "cell_type": "markdown",
   "metadata": {},
   "source": [
    "### AutoComplete"
   ]
  },
  {
   "cell_type": "code",
   "execution_count": null,
   "metadata": {},
   "outputs": [],
   "source": []
  },
  {
   "cell_type": "markdown",
   "metadata": {
    "extensions": {
     "jupyter_dashboards": {
      "version": 1,
      "views": {
       "grid_default": {
        "col": 4,
        "height": 4,
        "hidden": false,
        "row": 4,
        "width": 4
       },
       "report_default": {
        "hidden": false
       }
      }
     }
    }
   },
   "source": [
    "### Switch"
   ]
  },
  {
   "cell_type": "code",
   "execution_count": null,
   "metadata": {
    "ExecuteTime": {
     "end_time": "2019-04-14T14:52:45.136367Z",
     "start_time": "2019-04-14T14:52:45.125395Z"
    },
    "extensions": {
     "jupyter_dashboards": {
      "version": 1,
      "views": {
       "grid_default": {
        "col": 8,
        "height": 4,
        "hidden": false,
        "row": 4,
        "width": 4
       },
       "report_default": {
        "hidden": false
       }
      }
     }
    }
   },
   "outputs": [],
   "source": [
    "s = antd.Switch(checked=True, checked_children='開', un_checked_children='關', size=\"small\")\n",
    "s"
   ]
  },
  {
   "cell_type": "code",
   "execution_count": null,
   "metadata": {
    "ExecuteTime": {
     "end_time": "2019-04-14T14:52:45.142363Z",
     "start_time": "2019-04-14T14:52:45.138362Z"
    },
    "extensions": {
     "jupyter_dashboards": {
      "version": 1,
      "views": {
       "grid_default": {
        "hidden": true
       },
       "report_default": {
        "hidden": true
       }
      }
     }
    }
   },
   "outputs": [],
   "source": [
    "s.checked = True"
   ]
  },
  {
   "cell_type": "markdown",
   "metadata": {
    "extensions": {
     "jupyter_dashboards": {
      "version": 1,
      "views": {
       "grid_default": {
        "col": 0,
        "height": 4,
        "hidden": false,
        "row": 8,
        "width": 4
       },
       "report_default": {
        "hidden": false
       }
      }
     }
    }
   },
   "source": [
    "### Checkbox"
   ]
  },
  {
   "cell_type": "code",
   "execution_count": null,
   "metadata": {
    "ExecuteTime": {
     "end_time": "2019-04-14T14:52:45.157310Z",
     "start_time": "2019-04-14T14:52:45.144346Z"
    },
    "extensions": {
     "jupyter_dashboards": {
      "version": 1,
      "views": {
       "grid_default": {
        "col": 4,
        "height": 4,
        "hidden": false,
        "row": 8,
        "width": 4
       },
       "report_default": {
        "hidden": false
       }
      }
     }
    }
   },
   "outputs": [],
   "source": [
    "c = antd.Checkbox(description='AAA')\n",
    "c"
   ]
  },
  {
   "cell_type": "code",
   "execution_count": null,
   "metadata": {
    "ExecuteTime": {
     "end_time": "2019-04-14T14:52:45.163294Z",
     "start_time": "2019-04-14T14:52:45.158314Z"
    },
    "extensions": {
     "jupyter_dashboards": {
      "version": 1,
      "views": {
       "grid_default": {
        "hidden": true
       },
       "report_default": {
        "hidden": true
       }
      }
     }
    }
   },
   "outputs": [],
   "source": [
    "c.checked = False"
   ]
  },
  {
   "cell_type": "markdown",
   "metadata": {},
   "source": [
    "### Radio"
   ]
  },
  {
   "cell_type": "code",
   "execution_count": null,
   "metadata": {
    "ExecuteTime": {
     "end_time": "2019-04-14T14:52:45.190224Z",
     "start_time": "2019-04-14T14:52:45.166288Z"
    }
   },
   "outputs": [],
   "source": [
    "rg = antd.RadioGroup(\n",
    "    children=[\n",
    "        antd.Radio(content='Apple', value='1'),\n",
    "        antd.Radio(content='Pear', value='2'),\n",
    "        antd.Radio(content='Orange', value='3')\n",
    "    ]\n",
    ")\n",
    "rg"
   ]
  },
  {
   "cell_type": "code",
   "execution_count": null,
   "metadata": {
    "ExecuteTime": {
     "end_time": "2019-04-14T14:52:45.194225Z",
     "start_time": "2019-04-14T14:52:45.191221Z"
    }
   },
   "outputs": [],
   "source": [
    "rg.value"
   ]
  },
  {
   "cell_type": "markdown",
   "metadata": {
    "extensions": {
     "jupyter_dashboards": {
      "version": 1,
      "views": {
       "grid_default": {
        "col": 8,
        "height": 4,
        "hidden": false,
        "row": 8,
        "width": 4
       },
       "report_default": {
        "hidden": false
       }
      }
     }
    }
   },
   "source": [
    "### Select"
   ]
  },
  {
   "cell_type": "code",
   "execution_count": null,
   "metadata": {
    "ExecuteTime": {
     "end_time": "2019-04-14T14:52:45.210171Z",
     "start_time": "2019-04-14T14:52:45.196208Z"
    },
    "extensions": {
     "jupyter_dashboards": {
      "version": 1,
      "views": {
       "grid_default": {
        "col": 0,
        "height": 4,
        "hidden": false,
        "row": 12,
        "width": null
       },
       "report_default": {
        "hidden": false
       }
      }
     }
    }
   },
   "outputs": [],
   "source": [
    "# Note: SelectOption does not support yet\n",
    "# options = [\n",
    "#     antd.SelectOption(description='AAA', key='0'),\n",
    "#     antd.SelectOption(description='BBB', key='1'),\n",
    "#     antd.SelectOption(description='CCC', key='2')\n",
    "# ]\n",
    "options = ['AAA', 'BBB', 'CCC']\n",
    "\n",
    "sel = antd.Select(options=options, value=['AAA', 'BBB'], mode='multiple', style={'width': '33%'})\n",
    "sel"
   ]
  },
  {
   "cell_type": "code",
   "execution_count": null,
   "metadata": {
    "ExecuteTime": {
     "end_time": "2019-04-14T14:52:45.218149Z",
     "start_time": "2019-04-14T14:52:45.212166Z"
    },
    "extensions": {
     "jupyter_dashboards": {
      "version": 1,
      "views": {
       "grid_default": {
        "col": 0,
        "height": 4,
        "hidden": false,
        "row": 16,
        "width": 4
       },
       "report_default": {
        "hidden": false
       }
      }
     }
    }
   },
   "outputs": [],
   "source": [
    "sel.value"
   ]
  },
  {
   "cell_type": "markdown",
   "metadata": {},
   "source": [
    "### Slider"
   ]
  },
  {
   "cell_type": "code",
   "execution_count": null,
   "metadata": {
    "ExecuteTime": {
     "end_time": "2019-04-14T14:52:45.229132Z",
     "start_time": "2019-04-14T14:52:45.219147Z"
    }
   },
   "outputs": [],
   "source": [
    "antd.Slider(value=10, min=0, max=100)"
   ]
  },
  {
   "cell_type": "markdown",
   "metadata": {
    "extensions": {
     "jupyter_dashboards": {
      "version": 1,
      "views": {
       "grid_default": {
        "col": 4,
        "height": 4,
        "hidden": false,
        "row": 16,
        "width": 4
       },
       "report_default": {
        "hidden": false
       }
      }
     }
    }
   },
   "source": [
    "### DatePicker"
   ]
  },
  {
   "cell_type": "code",
   "execution_count": null,
   "metadata": {
    "ExecuteTime": {
     "end_time": "2019-04-14T14:52:45.253055Z",
     "start_time": "2019-04-14T14:52:45.231114Z"
    },
    "extensions": {
     "jupyter_dashboards": {
      "version": 1,
      "views": {
       "grid_default": {
        "col": 8,
        "height": 5,
        "hidden": false,
        "row": 16,
        "width": null
       },
       "report_default": {
        "hidden": false
       }
      }
     }
    }
   },
   "outputs": [],
   "source": [
    "dp = antd.DatePicker(value='2019-01-01')\n",
    "rp = antd.RangePicker(start_time='2019-01-01', end_time='2019-01-05')\n",
    "mp = antd.MonthPicker(value='2019-04')\n",
    "wp = antd.WeekPicker(value='2019-3')\n",
    "\n",
    "widgets.VBox([dp, rp, mp, wp])"
   ]
  },
  {
   "cell_type": "code",
   "execution_count": null,
   "metadata": {
    "ExecuteTime": {
     "end_time": "2019-04-14T14:52:45.261034Z",
     "start_time": "2019-04-14T14:52:45.254053Z"
    },
    "extensions": {
     "jupyter_dashboards": {
      "version": 1,
      "views": {
       "grid_default": {
        "col": 0,
        "height": 4,
        "hidden": false,
        "row": 20,
        "width": 4
       },
       "report_default": {
        "hidden": false
       }
      }
     }
    }
   },
   "outputs": [],
   "source": [
    "dp.value"
   ]
  },
  {
   "cell_type": "code",
   "execution_count": null,
   "metadata": {
    "ExecuteTime": {
     "end_time": "2019-04-14T14:52:45.269012Z",
     "start_time": "2019-04-14T14:52:45.263028Z"
    },
    "extensions": {
     "jupyter_dashboards": {
      "version": 1,
      "views": {
       "grid_default": {
        "col": 4,
        "height": 4,
        "hidden": false,
        "row": 20,
        "width": 4
       },
       "report_default": {
        "hidden": false
       }
      }
     }
    }
   },
   "outputs": [],
   "source": [
    "rp.start_time, rp.end_time"
   ]
  },
  {
   "cell_type": "code",
   "execution_count": null,
   "metadata": {
    "ExecuteTime": {
     "end_time": "2019-04-14T14:52:45.275992Z",
     "start_time": "2019-04-14T14:52:45.270009Z"
    },
    "extensions": {
     "jupyter_dashboards": {
      "version": 1,
      "views": {
       "grid_default": {
        "col": 8,
        "height": 4,
        "hidden": false,
        "row": 21,
        "width": 4
       },
       "report_default": {
        "hidden": false
       }
      }
     }
    }
   },
   "outputs": [],
   "source": [
    "mp.value"
   ]
  },
  {
   "cell_type": "code",
   "execution_count": null,
   "metadata": {
    "ExecuteTime": {
     "end_time": "2019-04-14T14:52:45.284969Z",
     "start_time": "2019-04-14T14:52:45.276992Z"
    },
    "extensions": {
     "jupyter_dashboards": {
      "version": 1,
      "views": {
       "grid_default": {
        "col": 0,
        "height": 4,
        "hidden": false,
        "row": 24,
        "width": 4
       },
       "report_default": {
        "hidden": false
       }
      }
     }
    }
   },
   "outputs": [],
   "source": [
    "wp.value"
   ]
  },
  {
   "cell_type": "markdown",
   "metadata": {},
   "source": [
    "### Input & Form"
   ]
  },
  {
   "cell_type": "code",
   "execution_count": null,
   "metadata": {
    "ExecuteTime": {
     "end_time": "2019-04-14T14:52:45.296937Z",
     "start_time": "2019-04-14T14:52:45.286964Z"
    }
   },
   "outputs": [],
   "source": [
    "i = antd.Input(value='123')\n",
    "i"
   ]
  },
  {
   "cell_type": "code",
   "execution_count": null,
   "metadata": {
    "ExecuteTime": {
     "end_time": "2019-04-14T14:52:45.303918Z",
     "start_time": "2019-04-14T14:52:45.298933Z"
    }
   },
   "outputs": [],
   "source": [
    "i.value"
   ]
  },
  {
   "cell_type": "code",
   "execution_count": null,
   "metadata": {
    "ExecuteTime": {
     "end_time": "2019-04-14T14:52:45.315886Z",
     "start_time": "2019-04-14T14:52:45.304916Z"
    }
   },
   "outputs": [],
   "source": [
    "inum = antd.InputNumber(value=10, max=100, min=0)\n",
    "inum"
   ]
  },
  {
   "cell_type": "code",
   "execution_count": null,
   "metadata": {
    "ExecuteTime": {
     "end_time": "2019-04-14T14:52:45.321869Z",
     "start_time": "2019-04-14T14:52:45.316884Z"
    }
   },
   "outputs": [],
   "source": [
    "inum.value"
   ]
  },
  {
   "cell_type": "code",
   "execution_count": null,
   "metadata": {
    "ExecuteTime": {
     "end_time": "2019-04-14T14:52:45.332840Z",
     "start_time": "2019-04-14T14:52:45.322867Z"
    }
   },
   "outputs": [],
   "source": [
    "ta = antd.TextArea(value='123')\n",
    "ta"
   ]
  },
  {
   "cell_type": "code",
   "execution_count": null,
   "metadata": {
    "ExecuteTime": {
     "end_time": "2019-04-14T14:52:45.340819Z",
     "start_time": "2019-04-14T14:52:45.333839Z"
    }
   },
   "outputs": [],
   "source": [
    "ta.value = 10"
   ]
  },
  {
   "cell_type": "code",
   "execution_count": null,
   "metadata": {
    "ExecuteTime": {
     "end_time": "2019-04-14T14:52:45.353785Z",
     "start_time": "2019-04-14T14:52:45.342814Z"
    }
   },
   "outputs": [],
   "source": [
    "antd.Search(value='AAA')"
   ]
  },
  {
   "cell_type": "code",
   "execution_count": null,
   "metadata": {
    "ExecuteTime": {
     "end_time": "2019-04-14T14:52:45.364756Z",
     "start_time": "2019-04-14T14:52:45.354783Z"
    }
   },
   "outputs": [],
   "source": [
    "antd.Password(value='AAA')"
   ]
  },
  {
   "cell_type": "code",
   "execution_count": null,
   "metadata": {
    "ExecuteTime": {
     "end_time": "2019-04-14T14:52:45.397668Z",
     "start_time": "2019-04-14T14:52:45.366750Z"
    }
   },
   "outputs": [],
   "source": [
    "antd.Form(\n",
    "    label_col={\n",
    "        'xs': {'span': 24},\n",
    "        'sm': {'span': 4}\n",
    "    },\n",
    "    wrapper_col={\n",
    "        'xs': {'span': 24},\n",
    "        'sm': {'span': 10}\n",
    "    },\n",
    "    children=[\n",
    "        antd.FormItem(label=\"Name\", children=[antd.Input(value='My Name')], style={'margin-bottom':'2px'}),\n",
    "        antd.FormItem(label=\"Amount\", children=[antd.InputNumber(value=10, max=100, min=0)], style={'margin-bottom':'2px'}),\n",
    "        antd.FormItem(label=\"Description\", children=[antd.TextArea(value='123')], style={'margin-bottom':'2px'})\n",
    "    ]\n",
    ")"
   ]
  },
  {
   "cell_type": "markdown",
   "metadata": {},
   "source": [
    "### Cascader"
   ]
  },
  {
   "cell_type": "code",
   "execution_count": null,
   "metadata": {
    "ExecuteTime": {
     "end_time": "2019-04-14T14:52:45.410632Z",
     "start_time": "2019-04-14T14:52:45.399664Z"
    }
   },
   "outputs": [],
   "source": [
    "options = [{\n",
    "    'value': 'zhejiang',\n",
    "    'label': 'Zhejiang',\n",
    "    'children': [{\n",
    "        'value': 'hangzhou',\n",
    "        'label': 'Hangzhou',\n",
    "    }],\n",
    "}, {\n",
    "    'value': 'jiangsu',\n",
    "    'label': 'Jiangsu',\n",
    "    'children': [{\n",
    "        'value': 'nanjing',\n",
    "        'label': 'Nanjing',\n",
    "        'children': [{\n",
    "            'value': 'zhonghuamen',\n",
    "            'label': 'Zhong Hua Men',\n",
    "        }],\n",
    "    }],\n",
    "}]\n",
    "antd.Cascader(options=options)"
   ]
  },
  {
   "cell_type": "markdown",
   "metadata": {},
   "source": [
    "### Transfer"
   ]
  },
  {
   "cell_type": "code",
   "execution_count": null,
   "metadata": {
    "ExecuteTime": {
     "end_time": "2019-04-14T14:52:45.422601Z",
     "start_time": "2019-04-14T14:52:45.411630Z"
    }
   },
   "outputs": [],
   "source": [
    "data_source = [\n",
    "    {'key': 'A', 'title': 'AAA', 'description': 'AAA_', 'disabled': False},\n",
    "    {'key': 'B', 'title': 'BBB', 'description': 'BBB_', 'disabled': False},\n",
    "    {'key': 'C', 'title': 'CCC', 'description': 'CCC_', 'disabled': False}\n",
    "]\n",
    "tf = antd.Transfer(data_source=data_source, show_search=True, target_keys=['A'])\n",
    "tf"
   ]
  },
  {
   "cell_type": "markdown",
   "metadata": {},
   "source": [
    "### Upload"
   ]
  },
  {
   "cell_type": "code",
   "execution_count": null,
   "metadata": {},
   "outputs": [],
   "source": []
  },
  {
   "cell_type": "markdown",
   "metadata": {},
   "source": [
    "## Data Display"
   ]
  },
  {
   "cell_type": "markdown",
   "metadata": {},
   "source": [
    "### Avatar"
   ]
  },
  {
   "cell_type": "code",
   "execution_count": null,
   "metadata": {
    "ExecuteTime": {
     "end_time": "2019-04-14T14:52:45.433571Z",
     "start_time": "2019-04-14T14:52:45.423599Z"
    }
   },
   "outputs": [],
   "source": [
    "antd.Avatar(size='default', icon=\"user\")"
   ]
  },
  {
   "cell_type": "markdown",
   "metadata": {},
   "source": [
    "### Badge"
   ]
  },
  {
   "cell_type": "code",
   "execution_count": null,
   "metadata": {
    "ExecuteTime": {
     "end_time": "2019-04-14T14:52:45.446537Z",
     "start_time": "2019-04-14T14:52:45.434569Z"
    }
   },
   "outputs": [],
   "source": [
    "antd.Badge(count=5, child=antd.Tag(content='Danger'))"
   ]
  },
  {
   "cell_type": "markdown",
   "metadata": {},
   "source": [
    "### Comment"
   ]
  },
  {
   "cell_type": "code",
   "execution_count": null,
   "metadata": {
    "ExecuteTime": {
     "end_time": "2019-04-14T14:52:45.457507Z",
     "start_time": "2019-04-14T14:52:45.448533Z"
    }
   },
   "outputs": [],
   "source": [
    "antd.Comment()"
   ]
  },
  {
   "cell_type": "markdown",
   "metadata": {},
   "source": [
    "### Collapse"
   ]
  },
  {
   "cell_type": "code",
   "execution_count": null,
   "metadata": {
    "ExecuteTime": {
     "end_time": "2019-04-14T14:52:45.480446Z",
     "start_time": "2019-04-14T14:52:45.458505Z"
    },
    "scrolled": false
   },
   "outputs": [],
   "source": [
    "content = \"\"\"\n",
    "A dog is a type of domesticated animal. Known for its loyalty and faithfulness, \n",
    "it can be found as a welcome guest in many households across the world.\n",
    "\"\"\"\n",
    "antd.Collapse(\n",
    "    accordion=True,\n",
    "    children=[\n",
    "        antd.CollapsePanel(header='This is panel header 1', key='A', content=content),\n",
    "        antd.CollapsePanel(header='This is panel header 2', key='B', content=content),\n",
    "        antd.CollapsePanel(header='This is panel header 3', key='C', content=content)\n",
    "    ]\n",
    ")"
   ]
  },
  {
   "cell_type": "markdown",
   "metadata": {},
   "source": [
    "### Carousel"
   ]
  },
  {
   "cell_type": "code",
   "execution_count": null,
   "metadata": {
    "ExecuteTime": {
     "end_time": "2019-04-14T14:52:45.497400Z",
     "start_time": "2019-04-14T14:52:45.482441Z"
    }
   },
   "outputs": [],
   "source": [
    "antd.Carousel(\n",
    "    vertical=True,\n",
    "    children=[\n",
    "        antd.Div(content='123'),\n",
    "        antd.Div(content='123')\n",
    "    ]\n",
    ")"
   ]
  },
  {
   "cell_type": "code",
   "execution_count": null,
   "metadata": {
    "ExecuteTime": {
     "end_time": "2019-04-14T14:52:45.504381Z",
     "start_time": "2019-04-14T14:52:45.499396Z"
    }
   },
   "outputs": [],
   "source": [
    "%%html\n",
    "\n",
    "<style>\n",
    ".ant-carousel .slick-slide {\n",
    "  text-align: center;\n",
    "  height: 160px;\n",
    "  line-height: 160px;\n",
    "  background: #364d79;\n",
    "  overflow: hidden;\n",
    "}\n",
    "\n",
    ".ant-carousel .slick-slide h3 {\n",
    "  color: #fff;\n",
    "}\n",
    "</style>"
   ]
  },
  {
   "cell_type": "markdown",
   "metadata": {},
   "source": [
    "### Card"
   ]
  },
  {
   "cell_type": "code",
   "execution_count": null,
   "metadata": {
    "ExecuteTime": {
     "end_time": "2019-04-14T14:52:45.516350Z",
     "start_time": "2019-04-14T14:52:45.505381Z"
    }
   },
   "outputs": [],
   "source": [
    "antd.Card(title='Title', size='small', style={'width':'50%'}, children=[\n",
    "    tf, dp, rp\n",
    "])"
   ]
  },
  {
   "cell_type": "markdown",
   "metadata": {},
   "source": [
    "### Calendar"
   ]
  },
  {
   "cell_type": "code",
   "execution_count": null,
   "metadata": {
    "ExecuteTime": {
     "end_time": "2019-04-14T14:52:45.527320Z",
     "start_time": "2019-04-14T14:52:45.518347Z"
    }
   },
   "outputs": [],
   "source": [
    "antd.Calendar()"
   ]
  },
  {
   "cell_type": "markdown",
   "metadata": {},
   "source": [
    "### Empty"
   ]
  },
  {
   "cell_type": "code",
   "execution_count": null,
   "metadata": {
    "ExecuteTime": {
     "end_time": "2019-04-14T14:52:45.538290Z",
     "start_time": "2019-04-14T14:52:45.528319Z"
    }
   },
   "outputs": [],
   "source": [
    "antd.Empty()"
   ]
  },
  {
   "cell_type": "markdown",
   "metadata": {},
   "source": [
    "### List"
   ]
  },
  {
   "cell_type": "code",
   "execution_count": null,
   "metadata": {
    "ExecuteTime": {
     "end_time": "2019-04-14T14:52:45.558240Z",
     "start_time": "2019-04-14T14:52:45.539288Z"
    }
   },
   "outputs": [],
   "source": [
    "antd.ANTList(children=[\n",
    "    antd.ANTListItem(content='1'),\n",
    "    antd.ANTListItem(content='2'),\n",
    "    antd.ANTListItem(content='3')\n",
    "])"
   ]
  },
  {
   "cell_type": "markdown",
   "metadata": {},
   "source": [
    "### Popover"
   ]
  },
  {
   "cell_type": "code",
   "execution_count": null,
   "metadata": {
    "ExecuteTime": {
     "end_time": "2019-04-14T14:52:45.573197Z",
     "start_time": "2019-04-14T14:52:45.559236Z"
    }
   },
   "outputs": [],
   "source": [
    "antd.Popover(title='Detail', children=[antd.Button(content='123', type='primary')])"
   ]
  },
  {
   "cell_type": "markdown",
   "metadata": {},
   "source": [
    "### Statistic"
   ]
  },
  {
   "cell_type": "code",
   "execution_count": null,
   "metadata": {
    "ExecuteTime": {
     "end_time": "2019-04-14T14:52:45.584168Z",
     "start_time": "2019-04-14T14:52:45.574195Z"
    }
   },
   "outputs": [],
   "source": [
    "price = antd.Statistic(title='Price', value=7199.53, precision=2, suffix='USD')\n",
    "price"
   ]
  },
  {
   "cell_type": "code",
   "execution_count": null,
   "metadata": {
    "ExecuteTime": {
     "end_time": "2019-04-14T14:52:46.679267Z",
     "start_time": "2019-04-14T14:52:45.586163Z"
    }
   },
   "outputs": [],
   "source": [
    "for idx in range(100):\n",
    "    price.value = idx * 100\n",
    "    time.sleep(0.01)"
   ]
  },
  {
   "cell_type": "markdown",
   "metadata": {},
   "source": [
    "### Tree"
   ]
  },
  {
   "cell_type": "code",
   "execution_count": null,
   "metadata": {
    "ExecuteTime": {
     "end_time": "2019-04-14T14:52:46.701182Z",
     "start_time": "2019-04-14T14:52:46.680258Z"
    }
   },
   "outputs": [],
   "source": [
    "antd.Tree(\n",
    "    checkable=True,\n",
    "    children=[\n",
    "        antd.TreeNode(title=\"parent 1\", key=\"0-0\", children=[\n",
    "            antd.TreeNode(title=\"parent 1-1\", key=\"0-0-0\")\n",
    "        ]),\n",
    "        antd.TreeNode(title=\"parent 1\", key=\"0-1\")\n",
    "    ]\n",
    ")"
   ]
  },
  {
   "cell_type": "markdown",
   "metadata": {},
   "source": [
    "### Tooltip"
   ]
  },
  {
   "cell_type": "code",
   "execution_count": null,
   "metadata": {
    "ExecuteTime": {
     "end_time": "2019-04-14T14:52:46.717167Z",
     "start_time": "2019-04-14T14:52:46.703176Z"
    }
   },
   "outputs": [],
   "source": [
    "antd.Tooltip(title='Something...', children=[antd.Button(content='AAA')])"
   ]
  },
  {
   "cell_type": "markdown",
   "metadata": {},
   "source": [
    "### Timeline"
   ]
  },
  {
   "cell_type": "code",
   "execution_count": null,
   "metadata": {
    "ExecuteTime": {
     "end_time": "2019-04-14T14:52:46.760024Z",
     "start_time": "2019-04-14T14:52:46.719134Z"
    }
   },
   "outputs": [],
   "source": [
    "antd.Timeline(\n",
    "    mode='alternate',\n",
    "    style={'width': '98%'},\n",
    "    children=[\n",
    "        antd.TimelineItem(children=[\n",
    "            widgets.VBox([\n",
    "                antd.Icon(type='home'), \n",
    "                antd.Slider(value=10, min=0, max=100)\n",
    "            ])\n",
    "        ]),\n",
    "        antd.TimelineItem(children=[antd.Progress(percent=20, type='line', style={'width': '33%'})]),\n",
    "        antd.TimelineItem(children=[antd.Text(content='ipyantd', type=\"danger\")])\n",
    "    ]\n",
    ")"
   ]
  },
  {
   "cell_type": "markdown",
   "metadata": {},
   "source": [
    "### Tag"
   ]
  },
  {
   "cell_type": "code",
   "execution_count": null,
   "metadata": {
    "ExecuteTime": {
     "end_time": "2019-04-14T14:52:46.894665Z",
     "start_time": "2019-04-14T14:52:46.762018Z"
    }
   },
   "outputs": [],
   "source": [
    "tag_colors = [\n",
    "    'magenta', 'red', 'volcano', 'orange', 'gold', 'lime',\n",
    "    'green', 'cyan', 'blue', 'geekblue', 'purple',\n",
    "    '#f50', '#2db7f5', '#87d068', '#108ee9'\n",
    "]\n",
    "d3_category20 = [\n",
    "    '#1f77b4','#aec7e8','#ff7f0e','#ffbb78','#2ca02c','#98df8a','#d62728','#ff9896','#9467bd','#c5b0d5',\n",
    "    '#1f77b4','#aec7e8','#ff7f0e','#ffbb78','#2ca02c','#98df8a','#d62728','#ff9896','#9467bd','#c5b0d5'\n",
    "]\n",
    "\n",
    "widgets.VBox([\n",
    "    widgets.HBox([\n",
    "        antd.Tag(content=tag_color, color=tag_color) for tag_color in tag_colors\n",
    "    ]),\n",
    "    widgets.HBox([\n",
    "        antd.Tag(content=tag_color, color=tag_color) for tag_color in d3_category20\n",
    "    ])\n",
    "])"
   ]
  },
  {
   "cell_type": "markdown",
   "metadata": {},
   "source": [
    "### Tabs"
   ]
  },
  {
   "cell_type": "code",
   "execution_count": null,
   "metadata": {
    "ExecuteTime": {
     "end_time": "2019-04-14T14:52:46.926582Z",
     "start_time": "2019-04-14T14:52:46.896660Z"
    }
   },
   "outputs": [],
   "source": [
    "antd.Tabs(\n",
    "    type='line',\n",
    "    tab_position='top',\n",
    "    size='small',\n",
    "    style={\n",
    "        'height': 150\n",
    "    },\n",
    "    children=[\n",
    "        antd.TabPane(tab='A', key='A', content='AAA'),\n",
    "        antd.TabPane(tab='B', key='B', content='BBB'),\n",
    "        antd.TabPane(tab='C', key='C', content='CCC'),\n",
    "        antd.TabPane(tab='D', key='D', content='DDD'),\n",
    "        antd.TabPane(tab='E', key='E', content='EEE')\n",
    "    ]\n",
    ")"
   ]
  },
  {
   "cell_type": "markdown",
   "metadata": {},
   "source": [
    "### Table"
   ]
  },
  {
   "cell_type": "code",
   "execution_count": null,
   "metadata": {
    "ExecuteTime": {
     "end_time": "2019-04-14T14:52:46.941540Z",
     "start_time": "2019-04-14T14:52:46.928590Z"
    }
   },
   "outputs": [],
   "source": [
    "data_source = [{\n",
    "    'key': '1',\n",
    "    'name': 'XOO',\n",
    "    'age': 32,\n",
    "    'address': 'AAA'\n",
    "}, {\n",
    "    'key': '2',\n",
    "    'name': 'OOO',\n",
    "    'age': 42,\n",
    "    'address': 'BBB'\n",
    "}];\n",
    "\n",
    "columns = [{\n",
    "    'title': 'Name',\n",
    "    'dataIndex': 'name',\n",
    "    'key': 'name',\n",
    "}, {\n",
    "    'title': 'Age',\n",
    "    'dataIndex': 'age',\n",
    "    'key': 'age',\n",
    "}, {\n",
    "    'title': 'Address',\n",
    "    'dataIndex': 'address',\n",
    "    'key': 'address',\n",
    "}];\n",
    "\n",
    "antd.Table(data_source=data_source, columns=columns, bordered=True, size='small')"
   ]
  },
  {
   "cell_type": "markdown",
   "metadata": {},
   "source": [
    "## Feedback"
   ]
  },
  {
   "cell_type": "markdown",
   "metadata": {
    "extensions": {
     "jupyter_dashboards": {
      "version": 1,
      "views": {
       "grid_default": {
        "col": 4,
        "height": 4,
        "hidden": false,
        "row": 24,
        "width": 4
       },
       "report_default": {
        "hidden": false
       }
      }
     }
    }
   },
   "source": [
    "### Progress"
   ]
  },
  {
   "cell_type": "code",
   "execution_count": null,
   "metadata": {
    "ExecuteTime": {
     "end_time": "2019-04-14T14:52:46.960493Z",
     "start_time": "2019-04-14T14:52:46.942538Z"
    },
    "extensions": {
     "jupyter_dashboards": {
      "version": 1,
      "views": {
       "grid_default": {
        "col": 8,
        "height": 6,
        "hidden": false,
        "row": 25,
        "width": null
       },
       "report_default": {
        "hidden": false
       }
      }
     }
    }
   },
   "outputs": [],
   "source": [
    "pg1 = antd.Progress(percent=20, type='line', style={'width': '33%'})\n",
    "pg2 = antd.Progress(percent=100, type='circle', style={'width': '20%'})\n",
    "widgets.VBox([pg1, pg2])"
   ]
  },
  {
   "cell_type": "code",
   "execution_count": null,
   "metadata": {
    "ExecuteTime": {
     "end_time": "2019-04-14T14:52:46.968469Z",
     "start_time": "2019-04-14T14:52:46.961487Z"
    },
    "extensions": {
     "jupyter_dashboards": {
      "version": 1,
      "views": {
       "grid_default": {
        "col": 0,
        "height": 4,
        "hidden": false,
        "row": 28,
        "width": 4
       },
       "report_default": {
        "hidden": false
       }
      }
     }
    }
   },
   "outputs": [],
   "source": [
    "pg1.percent"
   ]
  },
  {
   "cell_type": "markdown",
   "metadata": {},
   "source": [
    "### Drawer"
   ]
  },
  {
   "cell_type": "code",
   "execution_count": null,
   "metadata": {
    "ExecuteTime": {
     "end_time": "2019-04-14T14:52:46.981434Z",
     "start_time": "2019-04-14T14:52:46.970463Z"
    }
   },
   "outputs": [],
   "source": [
    "drawer = antd.Drawer(title='Test', visible=True)\n",
    "drawer"
   ]
  },
  {
   "cell_type": "code",
   "execution_count": null,
   "metadata": {
    "ExecuteTime": {
     "end_time": "2019-04-14T14:52:47.988192Z",
     "start_time": "2019-04-14T14:52:46.983427Z"
    }
   },
   "outputs": [],
   "source": [
    "drawer.visible = True\n",
    "time.sleep(1)\n",
    "drawer.visible = False"
   ]
  },
  {
   "cell_type": "code",
   "execution_count": null,
   "metadata": {
    "ExecuteTime": {
     "end_time": "2019-04-14T14:52:48.001151Z",
     "start_time": "2019-04-14T14:52:47.990168Z"
    }
   },
   "outputs": [],
   "source": [
    "b2 = antd.Button(description='Open')\n",
    "def click(button):\n",
    "    drawer.visible = not drawer.visible\n",
    "b2.on_click(click)\n",
    "b2"
   ]
  },
  {
   "cell_type": "markdown",
   "metadata": {},
   "source": [
    "### Model"
   ]
  },
  {
   "cell_type": "code",
   "execution_count": null,
   "metadata": {
    "ExecuteTime": {
     "end_time": "2019-04-14T14:52:48.013106Z",
     "start_time": "2019-04-14T14:52:48.003135Z"
    }
   },
   "outputs": [],
   "source": [
    "antd.Model(title='123', visible=True)"
   ]
  },
  {
   "cell_type": "markdown",
   "metadata": {},
   "source": [
    "### Popconfirm"
   ]
  },
  {
   "cell_type": "code",
   "execution_count": null,
   "metadata": {
    "ExecuteTime": {
     "end_time": "2019-04-14T14:52:48.024081Z",
     "start_time": "2019-04-14T14:52:48.015102Z"
    }
   },
   "outputs": [],
   "source": [
    "antd.Popconfirm()"
   ]
  },
  {
   "cell_type": "markdown",
   "metadata": {},
   "source": [
    "## Other"
   ]
  },
  {
   "cell_type": "markdown",
   "metadata": {},
   "source": [
    "### Anchor"
   ]
  },
  {
   "cell_type": "code",
   "execution_count": null,
   "metadata": {},
   "outputs": [],
   "source": []
  },
  {
   "cell_type": "markdown",
   "metadata": {},
   "source": [
    "### BackTop"
   ]
  },
  {
   "cell_type": "code",
   "execution_count": null,
   "metadata": {},
   "outputs": [],
   "source": []
  },
  {
   "cell_type": "markdown",
   "metadata": {},
   "source": [
    "### ConfigProvider"
   ]
  },
  {
   "cell_type": "code",
   "execution_count": null,
   "metadata": {},
   "outputs": [],
   "source": []
  },
  {
   "cell_type": "markdown",
   "metadata": {},
   "source": [
    "### Divider"
   ]
  },
  {
   "cell_type": "code",
   "execution_count": null,
   "metadata": {},
   "outputs": [],
   "source": []
  },
  {
   "cell_type": "markdown",
   "metadata": {},
   "source": [
    "### LocaleProvider"
   ]
  },
  {
   "cell_type": "code",
   "execution_count": null,
   "metadata": {},
   "outputs": [],
   "source": []
  }
 ],
 "metadata": {
  "extensions": {
   "jupyter_dashboards": {
    "activeView": "grid_default",
    "version": 1,
    "views": {
     "grid_default": {
      "cellMargin": 10,
      "defaultCellHeight": 20,
      "maxColumns": 12,
      "name": "grid",
      "type": "grid"
     },
     "report_default": {
      "name": "report",
      "type": "report"
     }
    }
   }
  },
  "kernelspec": {
   "display_name": "Python 3",
   "language": "python",
   "name": "python3"
  },
  "language_info": {
   "codemirror_mode": {
    "name": "ipython",
    "version": 3
   },
   "file_extension": ".py",
   "mimetype": "text/x-python",
   "name": "python",
   "nbconvert_exporter": "python",
   "pygments_lexer": "ipython3",
   "version": "3.6.5"
  },
  "toc": {
   "base_numbering": 1,
   "nav_menu": {},
   "number_sections": true,
   "sideBar": true,
   "skip_h1_title": false,
   "title_cell": "Table of Contents",
   "title_sidebar": "Contents",
   "toc_cell": false,
   "toc_position": {
    "height": "542px",
    "left": "1230px",
    "top": "143.8px",
    "width": "306px"
   },
   "toc_section_display": true,
   "toc_window_display": true
  },
  "varInspector": {
   "cols": {
    "lenName": 16,
    "lenType": 16,
    "lenVar": 40
   },
   "kernels_config": {
    "python": {
     "delete_cmd_postfix": "",
     "delete_cmd_prefix": "del ",
     "library": "var_list.py",
     "varRefreshCmd": "print(var_dic_list())"
    },
    "r": {
     "delete_cmd_postfix": ") ",
     "delete_cmd_prefix": "rm(",
     "library": "var_list.r",
     "varRefreshCmd": "cat(var_dic_list()) "
    }
   },
   "oldHeight": 400.4,
   "position": {
    "height": "422px",
    "left": "610px",
    "right": "20px",
    "top": "162px",
    "width": "608px"
   },
   "types_to_exclude": [
    "module",
    "function",
    "builtin_function_or_method",
    "instance",
    "_Feature"
   ],
   "varInspector_section_display": "block",
   "window_display": false
  }
 },
 "nbformat": 4,
 "nbformat_minor": 2
}
