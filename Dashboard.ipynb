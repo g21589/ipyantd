{
 "cells": [
  {
   "cell_type": "code",
   "execution_count": null,
   "metadata": {
    "ExecuteTime": {
     "end_time": "2019-04-21T13:03:01.424040Z",
     "start_time": "2019-04-21T13:03:00.443783Z"
    }
   },
   "outputs": [],
   "source": [
    "import numpy as np\n",
    "\n",
    "import ipywidgets as widgets\n",
    "import ipyantd as antd\n",
    "from plotly.offline import iplot, init_notebook_mode\n",
    "import plotly.graph_objs as go\n",
    "init_notebook_mode()"
   ]
  },
  {
   "cell_type": "code",
   "execution_count": null,
   "metadata": {
    "ExecuteTime": {
     "end_time": "2019-04-21T13:03:01.437032Z",
     "start_time": "2019-04-21T13:03:01.428030Z"
    }
   },
   "outputs": [],
   "source": [
    "%%html\n",
    "\n",
    "<style>\n",
    ".react-grid-layout .ant-card-head {\n",
    "    background-color: #F7F7F7;\n",
    "    min-height: 10px;\n",
    "    line-height: 0.1;\n",
    "    padding: 2px 3px;\n",
    "    cursor: move;\n",
    "}\n",
    ".react-grid-layout .ant-card-body {\n",
    "    padding: 3px;\n",
    "}\n",
    "</style>"
   ]
  },
  {
   "cell_type": "code",
   "execution_count": null,
   "metadata": {
    "ExecuteTime": {
     "end_time": "2019-04-21T13:03:01.990368Z",
     "start_time": "2019-04-21T13:03:01.438485Z"
    }
   },
   "outputs": [],
   "source": [
    "y0 = np.random.randn(50)-1\n",
    "y1 = np.random.randn(50)+1\n",
    "\n",
    "trace0 = go.Box(\n",
    "    y=y0\n",
    ")\n",
    "trace1 = go.Box(\n",
    "    y=y1\n",
    ")\n",
    "data = [trace0, trace1]\n",
    "f2 = go.FigureWidget(data)"
   ]
  },
  {
   "cell_type": "code",
   "execution_count": null,
   "metadata": {
    "ExecuteTime": {
     "end_time": "2019-04-21T13:03:01.998332Z",
     "start_time": "2019-04-21T13:03:01.992362Z"
    }
   },
   "outputs": [],
   "source": [
    "html = widgets.HBox([f2])"
   ]
  },
  {
   "cell_type": "code",
   "execution_count": null,
   "metadata": {
    "ExecuteTime": {
     "end_time": "2019-04-21T13:03:02.065156Z",
     "start_time": "2019-04-21T13:03:02.000328Z"
    }
   },
   "outputs": [],
   "source": [
    "RGL = antd.ReactGridLayout(\n",
    "    layout=[\n",
    "        {'w': 6, 'h': 3, 'x': 0, 'y': 0, 'i': '0'},\n",
    "        {'w': 6, 'h': 3, 'x': 6, 'y': 0, 'i': '1'},\n",
    "        {'w': 4, 'h': 2, 'x': 0, 'y': 3, 'i': '2'},\n",
    "        {'w': 8, 'h': 2, 'x': 4, 'y': 3, 'i': '3'}\n",
    "    ],\n",
    "    cols=12,\n",
    "    row_height=30,\n",
    "    width=996,\n",
    "    draggable_handle='.ant-card-head',\n",
    "    children=[\n",
    "        antd.Card(title='Title', size='small', style={'height': '100%', 'overflow': 'hidden'}, children=[\n",
    "            antd.Statistic(title='Price', value=7199.53, precision=2, suffix='USD')\n",
    "        ]),\n",
    "        antd.Card(title='Title', size='small', style={'height': '100%', 'overflow': 'hidden'}, children=[\n",
    "            antd.Progress(percent=20, type='line', style={'width': '33%'})\n",
    "        ]),\n",
    "        antd.Card(title='Title', size='small', style={'height': '100%', 'overflow': 'hidden'}, children=[\n",
    "            widgets.HBox([f2])\n",
    "        ]),\n",
    "        antd.Card(title='Title', size='small', style={'height': '100%', 'overflow': 'hidden'}, children=[\n",
    "            antd.Checkbox(description='AAA')\n",
    "        ]),\n",
    "    ]\n",
    ")\n",
    "RGL"
   ]
  },
  {
   "cell_type": "code",
   "execution_count": null,
   "metadata": {},
   "outputs": [],
   "source": []
  },
  {
   "cell_type": "code",
   "execution_count": null,
   "metadata": {},
   "outputs": [],
   "source": []
  },
  {
   "cell_type": "code",
   "execution_count": null,
   "metadata": {
    "ExecuteTime": {
     "end_time": "2019-04-21T13:03:02.112029Z",
     "start_time": "2019-04-21T13:03:02.067149Z"
    }
   },
   "outputs": [],
   "source": [
    "a = widgets.IntSlider(description=\"Delayed\", continuous_update=False)\n",
    "b = widgets.IntText(description=\"Delayed\", continuous_update=False)\n",
    "c = widgets.IntSlider(description=\"Continuous\", continuous_update=True)\n",
    "d = widgets.IntText(description=\"Continuous\", continuous_update=True)\n",
    "\n",
    "widgets.link((a, 'value'), (b, 'value'))\n",
    "widgets.link((a, 'value'), (c, 'value'))\n",
    "widgets.link((a, 'value'), (d, 'value'))\n",
    "aa = widgets.VBox([a,b])\n",
    "bb = widgets.VBox([c,d])\n",
    "html = widgets.HBox([aa, bb])\n",
    "html"
   ]
  },
  {
   "cell_type": "code",
   "execution_count": null,
   "metadata": {
    "ExecuteTime": {
     "end_time": "2019-04-21T13:03:02.130978Z",
     "start_time": "2019-04-21T13:03:02.114026Z"
    }
   },
   "outputs": [],
   "source": [
    "html = widgets.Box([aa, f2])\n",
    "html"
   ]
  },
  {
   "cell_type": "code",
   "execution_count": null,
   "metadata": {
    "ExecuteTime": {
     "end_time": "2019-04-21T13:03:02.139954Z",
     "start_time": "2019-04-21T13:03:02.132974Z"
    }
   },
   "outputs": [],
   "source": [
    "import inspect\n",
    "inspect.getmro(go.FigureWidget)"
   ]
  },
  {
   "cell_type": "code",
   "execution_count": null,
   "metadata": {
    "ExecuteTime": {
     "end_time": "2019-04-21T13:03:02.149928Z",
     "start_time": "2019-04-21T13:03:02.140952Z"
    }
   },
   "outputs": [],
   "source": [
    "import plotly\n",
    "\n",
    "go.FigureWidget is plotly.basewidget.BaseFigureWidget"
   ]
  },
  {
   "cell_type": "code",
   "execution_count": null,
   "metadata": {
    "ExecuteTime": {
     "end_time": "2019-04-21T13:03:02.160898Z",
     "start_time": "2019-04-21T13:03:02.151923Z"
    }
   },
   "outputs": [],
   "source": [
    "isinstance(f2, widgets.DOMWidget)"
   ]
  },
  {
   "cell_type": "code",
   "execution_count": null,
   "metadata": {
    "ExecuteTime": {
     "end_time": "2019-04-21T13:08:08.451752Z",
     "start_time": "2019-04-21T13:08:08.438786Z"
    }
   },
   "outputs": [],
   "source": [
    "antd.Card(title='Title', extra='', size='small', children=[\n",
    "    f2\n",
    "], style={})"
   ]
  },
  {
   "cell_type": "code",
   "execution_count": null,
   "metadata": {
    "ExecuteTime": {
     "end_time": "2019-04-21T13:08:18.116711Z",
     "start_time": "2019-04-21T13:08:18.104763Z"
    }
   },
   "outputs": [],
   "source": []
  },
  {
   "cell_type": "code",
   "execution_count": null,
   "metadata": {
    "ExecuteTime": {
     "end_time": "2019-04-21T13:03:02.210765Z",
     "start_time": "2019-04-21T13:03:02.178852Z"
    }
   },
   "outputs": [],
   "source": [
    "from ipyaggrid import Grid\n",
    "url = '../GUI/data/olympicWinners.json'\n",
    "with open(url, encoding='utf-8') as f:\n",
    "    data = json.loads(f.read())"
   ]
  },
  {
   "cell_type": "code",
   "execution_count": null,
   "metadata": {
    "ExecuteTime": {
     "end_time": "2019-04-21T13:03:02.446137Z",
     "start_time": "2019-04-21T13:03:02.211762Z"
    }
   },
   "outputs": [],
   "source": [
    "columnDefs = [\n",
    "    {'headerName': \"Country\", 'field': \"country\", 'width': 120, 'rowGroup': 'true'},\n",
    "    {'headerName': \"Year\", 'field': \"year\", 'width': 90, 'pivot': 'true', 'enablePivot':True},\n",
    "    {'headerName': \"Sport\", 'field': \"sport\", 'width': 110, 'rowGroup': 'true'},\n",
    "    {'headerName': \"Athlete\", 'field': \"athlete\"},\n",
    "    {'headerName': \"Gold\", 'field': \"gold\", 'width': 100, 'aggFunc': 'sum'},\n",
    "];\n",
    "\n",
    "gridOptions = {\n",
    "    'pivotMode': 'true',\n",
    "    'enableColResize': 'true',\n",
    "    'columnDefs': columnDefs,\n",
    "    'enableFilter':'true',\n",
    "    'enableSorting':'true',\n",
    "    'animateRows':'true',\n",
    "};\n",
    "\n",
    "buttons=[{'name':'Highlight', 'action':\"\"\"\n",
    "        var count = gridOptions.api.getDisplayedRowCount();\n",
    "        for (var i = 0; i<count; i++) {\n",
    "          var rowNode = gridOptions.api.getDisplayedRowAtIndex(i);\n",
    "          if(rowNode.aggData != null && Object.keys(rowNode.aggData).length > 0){\n",
    "        var keys = Object.keys(rowNode.aggData);\n",
    "        var gold = [];\n",
    "        for (var k = 0; k<keys.length; k++){\n",
    "          var j = 2*k + 1;\n",
    "          var prop = \"pivot_\" + j;\n",
    "          if(rowNode.aggData[prop] == null){\n",
    "            rowNode.aggData[prop] = 0;\n",
    "          }\n",
    "          gold[k] = rowNode.aggData[prop];\n",
    "        }\n",
    "        for(var j=0;j<gold.length - 1;j++){\n",
    "          if(Math.abs(gold[j] - gold[j+1]) >= 50){\n",
    "            var column1 = \"pivot_\" + (2*j+1);\n",
    "            var column2 = \"pivot_\" + (2*(j+1)+1);\n",
    "            gridOptions.api.flashCells({rowNodes: [rowNode], columns: [column1, column2] });\n",
    "          }\n",
    "        }}}\"\"\"}]\n",
    "\n",
    "grid1 = Grid(quick_filter=True,\n",
    "             theme='ag-theme-balham',\n",
    "             compress_data=True,\n",
    "             menu={'buttons':buttons},\n",
    "             grid_options=gridOptions,\n",
    "             grid_data=data,\n",
    "             columns_fit=\"auto\")\n",
    "grid1"
   ]
  }
 ],
 "metadata": {
  "kernelspec": {
   "display_name": "Python 3",
   "language": "python",
   "name": "python3"
  },
  "language_info": {
   "codemirror_mode": {
    "name": "ipython",
    "version": 3
   },
   "file_extension": ".py",
   "mimetype": "text/x-python",
   "name": "python",
   "nbconvert_exporter": "python",
   "pygments_lexer": "ipython3",
   "version": "3.6.5"
  },
  "toc": {
   "base_numbering": 1,
   "nav_menu": {},
   "number_sections": true,
   "sideBar": true,
   "skip_h1_title": false,
   "title_cell": "Table of Contents",
   "title_sidebar": "Contents",
   "toc_cell": false,
   "toc_position": {},
   "toc_section_display": true,
   "toc_window_display": false
  },
  "varInspector": {
   "cols": {
    "lenName": 16,
    "lenType": 16,
    "lenVar": 40
   },
   "kernels_config": {
    "python": {
     "delete_cmd_postfix": "",
     "delete_cmd_prefix": "del ",
     "library": "var_list.py",
     "varRefreshCmd": "print(var_dic_list())"
    },
    "r": {
     "delete_cmd_postfix": ") ",
     "delete_cmd_prefix": "rm(",
     "library": "var_list.r",
     "varRefreshCmd": "cat(var_dic_list()) "
    }
   },
   "types_to_exclude": [
    "module",
    "function",
    "builtin_function_or_method",
    "instance",
    "_Feature"
   ],
   "window_display": false
  }
 },
 "nbformat": 4,
 "nbformat_minor": 2
}
