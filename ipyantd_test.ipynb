{
 "cells": [
  {
   "cell_type": "markdown",
   "metadata": {},
   "source": [
    "# Initial"
   ]
  },
  {
   "cell_type": "code",
   "execution_count": 1,
   "metadata": {
    "ExecuteTime": {
     "end_time": "2019-03-31T03:09:28.596431Z",
     "start_time": "2019-03-31T03:09:28.586457Z"
    }
   },
   "outputs": [],
   "source": [
    "import ipywidgets as widgets\n",
    "import ipyantd as antd"
   ]
  },
  {
   "cell_type": "markdown",
   "metadata": {},
   "source": [
    "# ipyantd widget list"
   ]
  },
  {
   "cell_type": "markdown",
   "metadata": {},
   "source": [
    "##  Button"
   ]
  },
  {
   "cell_type": "code",
   "execution_count": 2,
   "metadata": {
    "ExecuteTime": {
     "end_time": "2019-03-31T03:09:28.618371Z",
     "start_time": "2019-03-31T03:09:28.598424Z"
    },
    "scrolled": false
   },
   "outputs": [
    {
     "data": {
      "application/vnd.jupyter.widget-view+json": {
       "model_id": "6f99c20e5dac4573855ef255f4af415e",
       "version_major": 2,
       "version_minor": 0
      },
      "text/plain": [
       "VBox(children=(Button(description='AAA'), Output()))"
      ]
     },
     "metadata": {},
     "output_type": "display_data"
    }
   ],
   "source": [
    "out = widgets.Output()\n",
    "b = antd.Button(description='AAA')\n",
    "@out.capture()\n",
    "def click(button):\n",
    "    print('Hello')\n",
    "b.on_click(click)\n",
    "widgets.VBox([b, out])"
   ]
  },
  {
   "cell_type": "markdown",
   "metadata": {},
   "source": [
    "## Switch"
   ]
  },
  {
   "cell_type": "code",
   "execution_count": 3,
   "metadata": {
    "ExecuteTime": {
     "end_time": "2019-03-31T03:09:28.632344Z",
     "start_time": "2019-03-31T03:09:28.619370Z"
    }
   },
   "outputs": [
    {
     "data": {
      "application/vnd.jupyter.widget-view+json": {
       "model_id": "d38eb19dd6fc4dd683fb548a068f970c",
       "version_major": 2,
       "version_minor": 0
      },
      "text/plain": [
       "Switch(checked=True, checked_children='開', un_checked_children='關')"
      ]
     },
     "metadata": {},
     "output_type": "display_data"
    }
   ],
   "source": [
    "s = antd.Switch(checked=True, checked_children='開', un_checked_children='關', size=\"small\")\n",
    "s"
   ]
  },
  {
   "cell_type": "code",
   "execution_count": 4,
   "metadata": {
    "ExecuteTime": {
     "end_time": "2019-03-31T03:09:28.638317Z",
     "start_time": "2019-03-31T03:09:28.634327Z"
    }
   },
   "outputs": [],
   "source": [
    "s.checked = True"
   ]
  },
  {
   "cell_type": "markdown",
   "metadata": {},
   "source": [
    "## Checkbox"
   ]
  },
  {
   "cell_type": "code",
   "execution_count": 5,
   "metadata": {
    "ExecuteTime": {
     "end_time": "2019-03-31T03:09:28.653277Z",
     "start_time": "2019-03-31T03:09:28.640313Z"
    }
   },
   "outputs": [
    {
     "data": {
      "application/vnd.jupyter.widget-view+json": {
       "model_id": "dabf56e99fde41f5b561bdf1ea9a0f86",
       "version_major": 2,
       "version_minor": 0
      },
      "text/plain": [
       "Checkbox(description='AAA')"
      ]
     },
     "metadata": {},
     "output_type": "display_data"
    }
   ],
   "source": [
    "c = antd.Checkbox(description='AAA')\n",
    "c"
   ]
  },
  {
   "cell_type": "code",
   "execution_count": 6,
   "metadata": {
    "ExecuteTime": {
     "end_time": "2019-03-31T03:09:28.658264Z",
     "start_time": "2019-03-31T03:09:28.654275Z"
    }
   },
   "outputs": [],
   "source": [
    "c.checked = False"
   ]
  },
  {
   "cell_type": "markdown",
   "metadata": {},
   "source": [
    "## Select"
   ]
  },
  {
   "cell_type": "code",
   "execution_count": 8,
   "metadata": {
    "ExecuteTime": {
     "end_time": "2019-03-31T03:43:47.780816Z",
     "start_time": "2019-03-31T03:43:47.760868Z"
    }
   },
   "outputs": [
    {
     "data": {
      "application/vnd.jupyter.widget-view+json": {
       "model_id": "e18b730fa5f14faa874f3804129fbd38",
       "version_major": 2,
       "version_minor": 0
      },
      "text/plain": [
       "Select(children=(SelectOption(description='AAA', key='0'), SelectOption(description='BBB', key='1'), SelectOpt…"
      ]
     },
     "metadata": {},
     "output_type": "display_data"
    }
   ],
   "source": [
    "options = [\n",
    "    antd.SelectOption(description='AAA', key='0'),\n",
    "    antd.SelectOption(description='BBB', key='1'),\n",
    "    antd.SelectOption(description='CCC', key='2')\n",
    "]\n",
    "\n",
    "sel = antd.Select(children=options, value='EEE', mode='multiple', style={'width': '25%'})\n",
    "sel"
   ]
  }
 ],
 "metadata": {
  "kernelspec": {
   "display_name": "Python 3",
   "language": "python",
   "name": "python3"
  },
  "language_info": {
   "codemirror_mode": {
    "name": "ipython",
    "version": 3
   },
   "file_extension": ".py",
   "mimetype": "text/x-python",
   "name": "python",
   "nbconvert_exporter": "python",
   "pygments_lexer": "ipython3",
   "version": "3.6.5"
  },
  "toc": {
   "base_numbering": 1,
   "nav_menu": {},
   "number_sections": true,
   "sideBar": true,
   "skip_h1_title": false,
   "title_cell": "Table of Contents",
   "title_sidebar": "Contents",
   "toc_cell": false,
   "toc_position": {},
   "toc_section_display": true,
   "toc_window_display": false
  },
  "varInspector": {
   "cols": {
    "lenName": 16,
    "lenType": 16,
    "lenVar": 40
   },
   "kernels_config": {
    "python": {
     "delete_cmd_postfix": "",
     "delete_cmd_prefix": "del ",
     "library": "var_list.py",
     "varRefreshCmd": "print(var_dic_list())"
    },
    "r": {
     "delete_cmd_postfix": ") ",
     "delete_cmd_prefix": "rm(",
     "library": "var_list.r",
     "varRefreshCmd": "cat(var_dic_list()) "
    }
   },
   "types_to_exclude": [
    "module",
    "function",
    "builtin_function_or_method",
    "instance",
    "_Feature"
   ],
   "window_display": false
  }
 },
 "nbformat": 4,
 "nbformat_minor": 2
}
