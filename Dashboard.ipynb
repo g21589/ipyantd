{
 "cells": [
  {
   "cell_type": "markdown",
   "metadata": {},
   "source": [
    "# Initial"
   ]
  },
  {
   "cell_type": "code",
   "execution_count": null,
   "metadata": {
    "ExecuteTime": {
     "end_time": "2019-04-28T13:24:07.031928Z",
     "start_time": "2019-04-28T13:24:06.121983Z"
    }
   },
   "outputs": [],
   "source": [
    "import numpy as np\n",
    "\n",
    "import ipywidgets as widgets\n",
    "import ipyantd as antd\n",
    "from plotly.offline import iplot, init_notebook_mode\n",
    "import plotly.graph_objs as go\n",
    "init_notebook_mode()"
   ]
  },
  {
   "cell_type": "code",
   "execution_count": null,
   "metadata": {
    "ExecuteTime": {
     "end_time": "2019-04-28T14:22:22.484376Z",
     "start_time": "2019-04-28T14:22:22.479389Z"
    }
   },
   "outputs": [],
   "source": [
    "%%html\n",
    "\n",
    "<style>\n",
    "/*\n",
    ".container {\n",
    "    width: 80% !important;\n",
    "}\n",
    "*/\n",
    ".react-grid-layout .ant-card-head {\n",
    "    background-color: #EEE;\n",
    "    min-height: 10px;\n",
    "    line-height: 0.1;\n",
    "    padding: 2px 3px;\n",
    "    cursor: move;\n",
    "}\n",
    ".react-grid-layout .ant-card-body {\n",
    "    padding: 3px;\n",
    "}\n",
    "</style>"
   ]
  },
  {
   "cell_type": "markdown",
   "metadata": {},
   "source": [
    "# Define viz components"
   ]
  },
  {
   "cell_type": "markdown",
   "metadata": {},
   "source": [
    "## Plotly"
   ]
  },
  {
   "cell_type": "code",
   "execution_count": null,
   "metadata": {
    "ExecuteTime": {
     "end_time": "2019-04-28T14:27:44.840214Z",
     "start_time": "2019-04-28T14:27:44.722529Z"
    }
   },
   "outputs": [],
   "source": [
    "trace1 = go.Scatter(\n",
    "    x=[1, 2, 3],\n",
    "    y=[4, 5, 6]\n",
    ")\n",
    "trace2 = go.Scatter(\n",
    "    x=[20, 30, 40],\n",
    "    y=[50, 60, 70],\n",
    "    xaxis='x2',\n",
    "    yaxis='y2'\n",
    ")\n",
    "trace3 = go.Scatter(\n",
    "    x=[300, 400, 500],\n",
    "    y=[600, 700, 800],\n",
    "    xaxis='x3',\n",
    "    yaxis='y3'\n",
    ")\n",
    "trace4 = go.Scatter(\n",
    "    x=[4000, 5000, 6000],\n",
    "    y=[7000, 8000, 9000],\n",
    "    xaxis='x4',\n",
    "    yaxis='y4'\n",
    ")\n",
    "\n",
    "data = [trace1, trace2, trace3, trace4]\n",
    "layout = go.Layout(\n",
    "    height=200,\n",
    "    margin=dict(l=30, r=0, t=20, b=30, pad=0),\n",
    "    font=dict(size=10),\n",
    "    xaxis=dict(\n",
    "        domain=[0, 0.45]\n",
    "    ),\n",
    "    yaxis=dict(\n",
    "        domain=[0, 0.45]\n",
    "    ),\n",
    "    xaxis2=dict(\n",
    "        domain=[0.55, 1]\n",
    "    ),\n",
    "    xaxis3=dict(\n",
    "        domain=[0, 0.45],\n",
    "        anchor='y3'\n",
    "    ),\n",
    "    xaxis4=dict(\n",
    "        domain=[0.55, 1],\n",
    "        anchor='y4'\n",
    "    ),\n",
    "    yaxis2=dict(\n",
    "        domain=[0, 0.45],\n",
    "        anchor='x2'\n",
    "    ),\n",
    "    yaxis3=dict(\n",
    "        domain=[0.55, 1]\n",
    "    ),\n",
    "    yaxis4=dict(\n",
    "        domain=[0.55, 1],\n",
    "        anchor='x4'\n",
    "    ),\n",
    "    paper_bgcolor='rgba(255,255,255,0)',\n",
    "    plot_bgcolor='rgba(255,255,255,0)'\n",
    ")\n",
    "\n",
    "config = {'editable': False}\n",
    "\n",
    "plotly_widget = go.FigureWidget(\n",
    "    data=data, \n",
    "    layout=layout, \n",
    "#    config=config   Not support yet\n",
    ")\n",
    "plotly_widget"
   ]
  },
  {
   "cell_type": "code",
   "execution_count": null,
   "metadata": {
    "ExecuteTime": {
     "end_time": "2019-04-28T13:51:21.814157Z",
     "start_time": "2019-04-28T13:51:21.809171Z"
    }
   },
   "outputs": [],
   "source": [
    "plotly.__version__"
   ]
  },
  {
   "cell_type": "markdown",
   "metadata": {
    "ExecuteTime": {
     "end_time": "2019-04-28T13:24:07.598413Z",
     "start_time": "2019-04-28T13:24:07.594423Z"
    }
   },
   "source": [
    "## ipywidgets"
   ]
  },
  {
   "cell_type": "code",
   "execution_count": null,
   "metadata": {
    "ExecuteTime": {
     "end_time": "2019-04-28T13:24:07.645288Z",
     "start_time": "2019-04-28T13:24:07.600408Z"
    }
   },
   "outputs": [],
   "source": [
    "a = widgets.IntSlider(description=\"Delayed\", continuous_update=False)\n",
    "b = widgets.IntText(description=\"Delayed\", continuous_update=False)\n",
    "c = widgets.IntSlider(description=\"Continuous\", continuous_update=True)\n",
    "d = widgets.IntText(description=\"Continuous\", continuous_update=True)\n",
    "\n",
    "widgets.link((a, 'value'), (b, 'value'))\n",
    "widgets.link((a, 'value'), (c, 'value'))\n",
    "widgets.link((a, 'value'), (d, 'value'))\n",
    "aa = widgets.VBox([a,b])\n",
    "bb = widgets.VBox([c,d])\n",
    "html = widgets.HBox([aa, bb])\n",
    "html"
   ]
  },
  {
   "cell_type": "markdown",
   "metadata": {},
   "source": [
    "## ipyantd"
   ]
  },
  {
   "cell_type": "code",
   "execution_count": null,
   "metadata": {
    "ExecuteTime": {
     "end_time": "2019-04-28T14:27:48.677323Z",
     "start_time": "2019-04-28T14:27:48.642417Z"
    }
   },
   "outputs": [],
   "source": [
    "antd.Card(title='Title', size='small', style={'height': '100%', 'overflow': 'hidden'}, children=[\n",
    "    antd.Tabs(\n",
    "        type='line',\n",
    "        tab_position='top',\n",
    "        size='small',\n",
    "        children=[\n",
    "            antd.TabPane(tab='A', key='A', children=[plotly_widget]),\n",
    "            antd.TabPane(tab='B', key='B', content='BBB'),\n",
    "            antd.TabPane(tab='C', key='C', content='CCC'),\n",
    "            antd.TabPane(tab='D', key='D', content='DDD'),\n",
    "            antd.TabPane(tab='E', key='E', content='EEE')\n",
    "        ]\n",
    "    )\n",
    "])"
   ]
  },
  {
   "cell_type": "markdown",
   "metadata": {},
   "source": [
    "## ipyaggrid"
   ]
  },
  {
   "cell_type": "code",
   "execution_count": null,
   "metadata": {
    "ExecuteTime": {
     "end_time": "2019-04-28T14:33:04.628035Z",
     "start_time": "2019-04-28T14:33:04.601127Z"
    }
   },
   "outputs": [],
   "source": [
    "from ipyaggrid import Grid\n",
    "url = '../GUI/data/olympicWinners.json'\n",
    "with open(url, encoding='utf-8') as f:\n",
    "    data = json.loads(f.read())"
   ]
  },
  {
   "cell_type": "code",
   "execution_count": null,
   "metadata": {
    "ExecuteTime": {
     "end_time": "2019-04-28T14:33:08.112034Z",
     "start_time": "2019-04-28T14:33:07.913184Z"
    }
   },
   "outputs": [],
   "source": [
    "columnDefs = [\n",
    "    {'headerName': \"Country\", 'field': \"country\", 'width': 120, 'rowGroup': 'true'},\n",
    "    {'headerName': \"Year\", 'field': \"year\", 'width': 90, 'pivot': 'true', 'enablePivot':True},\n",
    "    {'headerName': \"Sport\", 'field': \"sport\", 'width': 110, 'rowGroup': 'true'},\n",
    "    {'headerName': \"Athlete\", 'field': \"athlete\"},\n",
    "    {'headerName': \"Gold\", 'field': \"gold\", 'width': 100, 'aggFunc': 'sum'},\n",
    "];\n",
    "\n",
    "gridOptions = {\n",
    "    'pivotMode': 'true',\n",
    "    'enableColResize': 'true',\n",
    "    'columnDefs': columnDefs,\n",
    "    'enableFilter':'true',\n",
    "    'enableSorting':'true',\n",
    "    'animateRows':'true',\n",
    "};\n",
    "\n",
    "buttons=[\n",
    "    {\n",
    "        'name':'Highlight',\n",
    "        'action':\"\"\"\n",
    "        var count = gridOptions.api.getDisplayedRowCount();\n",
    "        for (var i = 0; i<count; i++) {\n",
    "          var rowNode = gridOptions.api.getDisplayedRowAtIndex(i);\n",
    "          if(rowNode.aggData != null && Object.keys(rowNode.aggData).length > 0){\n",
    "        var keys = Object.keys(rowNode.aggData);\n",
    "        var gold = [];\n",
    "        for (var k = 0; k<keys.length; k++){\n",
    "          var j = 2*k + 1;\n",
    "          var prop = \"pivot_\" + j;\n",
    "          if(rowNode.aggData[prop] == null){\n",
    "            rowNode.aggData[prop] = 0;\n",
    "          }\n",
    "          gold[k] = rowNode.aggData[prop];\n",
    "        }\n",
    "        for(var j=0;j<gold.length - 1;j++){\n",
    "          if(Math.abs(gold[j] - gold[j+1]) >= 50){\n",
    "            var column1 = \"pivot_\" + (2*j+1);\n",
    "            var column2 = \"pivot_\" + (2*(j+1)+1);\n",
    "            gridOptions.api.flashCells({rowNodes: [rowNode], columns: [column1, column2] });\n",
    "          }\n",
    "        }}}\"\"\"\n",
    "    }\n",
    "]\n",
    "\n",
    "aggrid_widget = Grid(\n",
    "    #quick_filter=True,\n",
    "    theme='ag-theme-balham',\n",
    "    compress_data=True,\n",
    "    #menu={'buttons':buttons},\n",
    "    grid_options=gridOptions,\n",
    "    grid_data=data,\n",
    "    columns_fit=\"auto\"\n",
    ")\n",
    "aggrid_widget"
   ]
  },
  {
   "cell_type": "markdown",
   "metadata": {},
   "source": [
    "# Final Dashboard Layout"
   ]
  },
  {
   "cell_type": "code",
   "execution_count": null,
   "metadata": {
    "ExecuteTime": {
     "end_time": "2019-04-28T14:47:32.552195Z",
     "start_time": "2019-04-28T14:47:32.317032Z"
    }
   },
   "outputs": [],
   "source": [
    "tag_colors = [\n",
    "    'magenta', 'red', 'volcano', 'orange', 'gold', 'lime',\n",
    "    'green', 'cyan', 'blue', 'geekblue', 'purple',\n",
    "    '#f50', '#2db7f5', '#87d068', '#108ee9'\n",
    "]\n",
    "d3_category20 = [\n",
    "    '#1f77b4','#aec7e8','#ff7f0e','#ffbb78','#2ca02c','#98df8a','#d62728','#ff9896','#9467bd','#c5b0d5',\n",
    "    '#1f77b4','#aec7e8','#ff7f0e','#ffbb78','#2ca02c','#98df8a','#d62728','#ff9896','#9467bd','#c5b0d5'\n",
    "]\n",
    "\n",
    "RGL = antd.ReactGridLayout(\n",
    "    layout=[\n",
    "        {'w': 6, 'h': 3, 'x': 0, 'y': 0, 'i': '0', 'moved': False, 'static': False},\n",
    "        {'w': 6, 'h': 4, 'x': 6, 'y': 0, 'i': '1', 'moved': False, 'static': False},\n",
    "        {'w': 6, 'h': 7, 'x': 0, 'y': 3, 'i': '2', 'moved': False, 'static': False},\n",
    "        {'w': 6, 'h': 6, 'x': 6, 'y': 4, 'i': '3', 'moved': False, 'static': False}\n",
    "    ],\n",
    "    cols=12,\n",
    "    row_height=30,\n",
    "    width=996,\n",
    "    draggable_handle='.ant-card-head',\n",
    "    children=[\n",
    "        antd.Card(title='Overview', size='small', style={'height': '100%', 'overflow': 'hidden'}, children=[\n",
    "            antd.Statistic(title='Price', value=7199.53, precision=2, suffix='USD')\n",
    "        ]),\n",
    "        antd.Card(title='Timeline', size='small', style={'height': '100%', 'overflow': 'hidden'}, children=[\n",
    "            antd.Timeline(\n",
    "                mode='alternate',\n",
    "                #style={'width': '98%'},\n",
    "                children=[\n",
    "                    antd.TimelineItem(children=[\n",
    "                        widgets.VBox([\n",
    "                            antd.Icon(type='home'),\n",
    "                        ])\n",
    "                    ]),\n",
    "                    antd.TimelineItem(children=[antd.Progress(percent=70, type='line', style={'width': '33%'})]),\n",
    "                    antd.TimelineItem(children=[antd.Text(content='Test', type=\"danger\")])\n",
    "                ]\n",
    "            )\n",
    "        ]),\n",
    "        antd.Card(title='Chart & Table', size='small', style={'height': '100%', 'overflow': 'hidden'}, children=[\n",
    "            antd.Tabs(\n",
    "                type='line',\n",
    "                tab_position='top',\n",
    "                size='small',\n",
    "                children=[\n",
    "                    antd.TabPane(tab='Plotly', key='A', children=[plotly_widget]),\n",
    "                    antd.TabPane(tab='Ag-grid', key='B', children=[aggrid_widget]),\n",
    "                    antd.TabPane(tab='C', key='C', content='CCC'),\n",
    "                    antd.TabPane(tab='D', key='D', content='DDD'),\n",
    "                    antd.TabPane(tab='E', key='E', content='EEE')\n",
    "                ]\n",
    "            )\n",
    "        ]),\n",
    "        antd.Card(title='Info', size='small', style={'height': '100%', 'overflow': 'hidden'}, children=[\n",
    "            widgets.VBox([\n",
    "                widgets.HBox([\n",
    "                    antd.Tag(content=tag_color, color=tag_color) for tag_color in tag_colors\n",
    "                ]),\n",
    "                widgets.HBox([\n",
    "                    antd.Tag(content=tag_color, color=tag_color) for tag_color in d3_category20\n",
    "                ])\n",
    "            ])\n",
    "        ]),\n",
    "    ]\n",
    ")\n",
    "RGL"
   ]
  },
  {
   "cell_type": "code",
   "execution_count": null,
   "metadata": {
    "ExecuteTime": {
     "end_time": "2019-04-28T14:34:32.325959Z",
     "start_time": "2019-04-28T14:34:32.320973Z"
    }
   },
   "outputs": [],
   "source": [
    "RGL.layout"
   ]
  }
 ],
 "metadata": {
  "kernelspec": {
   "display_name": "Python 3",
   "language": "python",
   "name": "python3"
  },
  "language_info": {
   "codemirror_mode": {
    "name": "ipython",
    "version": 3
   },
   "file_extension": ".py",
   "mimetype": "text/x-python",
   "name": "python",
   "nbconvert_exporter": "python",
   "pygments_lexer": "ipython3",
   "version": "3.6.5"
  },
  "toc": {
   "base_numbering": 1,
   "nav_menu": {},
   "number_sections": true,
   "sideBar": true,
   "skip_h1_title": false,
   "title_cell": "Table of Contents",
   "title_sidebar": "Contents",
   "toc_cell": false,
   "toc_position": {},
   "toc_section_display": true,
   "toc_window_display": false
  },
  "varInspector": {
   "cols": {
    "lenName": 16,
    "lenType": 16,
    "lenVar": 40
   },
   "kernels_config": {
    "python": {
     "delete_cmd_postfix": "",
     "delete_cmd_prefix": "del ",
     "library": "var_list.py",
     "varRefreshCmd": "print(var_dic_list())"
    },
    "r": {
     "delete_cmd_postfix": ") ",
     "delete_cmd_prefix": "rm(",
     "library": "var_list.r",
     "varRefreshCmd": "cat(var_dic_list()) "
    }
   },
   "types_to_exclude": [
    "module",
    "function",
    "builtin_function_or_method",
    "instance",
    "_Feature"
   ],
   "window_display": false
  }
 },
 "nbformat": 4,
 "nbformat_minor": 2
}
