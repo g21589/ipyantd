{
 "cells": [
  {
   "cell_type": "markdown",
   "metadata": {
    "extensions": {
     "jupyter_dashboards": {
      "version": 1,
      "views": {
       "grid_default": {
        "col": 0,
        "height": 4,
        "hidden": false,
        "row": 0,
        "width": 4
       },
       "report_default": {
        "hidden": false
       }
      }
     }
    }
   },
   "source": [
    "# Initial"
   ]
  },
  {
   "cell_type": "code",
   "execution_count": null,
   "metadata": {
    "ExecuteTime": {
     "end_time": "2019-04-13T09:44:00.942850Z",
     "start_time": "2019-04-13T09:44:00.921906Z"
    },
    "extensions": {
     "jupyter_dashboards": {
      "version": 1,
      "views": {
       "grid_default": {
        "hidden": true
       },
       "report_default": {
        "hidden": true
       }
      }
     }
    }
   },
   "outputs": [],
   "source": [
    "import ipywidgets as widgets\n",
    "import ipyantd as antd"
   ]
  },
  {
   "cell_type": "markdown",
   "metadata": {
    "extensions": {
     "jupyter_dashboards": {
      "version": 1,
      "views": {
       "grid_default": {
        "col": 4,
        "height": 4,
        "hidden": false,
        "row": 0,
        "width": 4
       },
       "report_default": {
        "hidden": false
       }
      }
     }
    }
   },
   "source": [
    "# ipyantd widget list"
   ]
  },
  {
   "cell_type": "markdown",
   "metadata": {},
   "source": [
    "## Row & Col "
   ]
  },
  {
   "cell_type": "code",
   "execution_count": null,
   "metadata": {
    "ExecuteTime": {
     "end_time": "2019-04-13T09:44:00.996678Z",
     "start_time": "2019-04-13T09:44:00.944849Z"
    }
   },
   "outputs": [],
   "source": [
    "widgets.VBox([\n",
    "    antd.Row(\n",
    "        children=[\n",
    "            antd.Col(span=2, style={'height': '50px', 'background': 'rgba(0,160,233,0.7)'}),\n",
    "            antd.Col(span=10, style={'height': '50px', 'background': 'rgba(0,160,233,1)'}),\n",
    "            antd.Col(span=8, offset=1, style={'height': '50px', 'background': 'rgba(0,160,233,0.7)'}),\n",
    "            antd.Col(span=3, style={'height': '50px', 'background': 'rgba(0,160,233,1)'})\n",
    "        ]\n",
    "    ),\n",
    "    antd.Row(\n",
    "        children=[\n",
    "            antd.Col(span=5, style={'height': '50px', 'background': 'rgba(0,160,233,0.7)'}),\n",
    "            antd.Col(span=4, offset=1, style={'height': '50px', 'background': 'rgba(0,160,233,1)'}),\n",
    "            antd.Col(span=10, offset=2, style={'height': '50px', 'background': 'rgba(0,160,233,0.7)'})\n",
    "        ]\n",
    "    )\n",
    "])"
   ]
  },
  {
   "cell_type": "markdown",
   "metadata": {},
   "source": [
    "## Icon"
   ]
  },
  {
   "cell_type": "code",
   "execution_count": null,
   "metadata": {
    "ExecuteTime": {
     "end_time": "2019-04-13T09:44:01.023606Z",
     "start_time": "2019-04-13T09:44:00.998673Z"
    }
   },
   "outputs": [],
   "source": [
    "widgets.HBox([\n",
    "    antd.Icon(type='home'),\n",
    "    antd.Icon(type='sync', spin=True),\n",
    "    antd.Icon(type='setting', spin=True),\n",
    "    antd.Icon(type='smile', rotate=180)\n",
    "])"
   ]
  },
  {
   "cell_type": "markdown",
   "metadata": {},
   "source": [
    "## Typography"
   ]
  },
  {
   "cell_type": "code",
   "execution_count": null,
   "metadata": {
    "ExecuteTime": {
     "end_time": "2019-04-13T09:44:01.091445Z",
     "start_time": "2019-04-13T09:44:01.025601Z"
    }
   },
   "outputs": [],
   "source": [
    "widgets.VBox([\n",
    "    antd.Text(content='ipyantd'),\n",
    "    antd.Text(content='ipyantd', type=\"secondary\"),\n",
    "    antd.Text(content='ipyantd', type=\"warning\"),\n",
    "    antd.Text(content='ipyantd', type=\"danger\"),\n",
    "    antd.Text(content='ipyantd', disabled=True),\n",
    "    antd.Text(content='ipyantd', mark=True),\n",
    "    antd.Text(content='ipyantd', code=True),\n",
    "    antd.Text(content='ipyantd', underline=True),\n",
    "    antd.Text(content='ipyantd', delete=True),\n",
    "    antd.Text(content='ipyantd', strong=True),\n",
    "    antd.Text(content='ipyantd', copyable=False),\n",
    "    antd.Text(content='ipyantd', editable=True),\n",
    "    antd.Text(content='ipyantd', ellipsis=True),\n",
    "])"
   ]
  },
  {
   "cell_type": "code",
   "execution_count": null,
   "metadata": {
    "ExecuteTime": {
     "end_time": "2019-04-13T09:44:01.114363Z",
     "start_time": "2019-04-13T09:44:01.092443Z"
    }
   },
   "outputs": [],
   "source": [
    "widgets.VBox([\n",
    "    antd.Title(content='H1', level=1),\n",
    "    antd.Title(content='H2', level=2),\n",
    "    antd.Title(content='H3', level=3),\n",
    "    antd.Title(content='H4', level=4)\n",
    "])"
   ]
  },
  {
   "cell_type": "code",
   "execution_count": null,
   "metadata": {
    "ExecuteTime": {
     "end_time": "2019-04-13T09:44:01.123351Z",
     "start_time": "2019-04-13T09:44:01.116378Z"
    }
   },
   "outputs": [],
   "source": [
    "antd.Paragraph(content=\"\"\"\n",
    "Ant Design, a design language for background applications, is refined by Ant UED Team.\n",
    "Ant Design, a design language for background applications, is refined by Ant UED Team.\n",
    "\"\"\")"
   ]
  },
  {
   "cell_type": "markdown",
   "metadata": {
    "extensions": {
     "jupyter_dashboards": {
      "version": 1,
      "views": {
       "grid_default": {
        "col": 8,
        "height": 4,
        "hidden": false,
        "row": 0,
        "width": 4
       },
       "report_default": {
        "hidden": false
       }
      }
     }
    }
   },
   "source": [
    "##  Button"
   ]
  },
  {
   "cell_type": "code",
   "execution_count": null,
   "metadata": {
    "ExecuteTime": {
     "end_time": "2019-04-13T09:44:01.141308Z",
     "start_time": "2019-04-13T09:44:01.125333Z"
    },
    "extensions": {
     "jupyter_dashboards": {
      "version": 1,
      "views": {
       "grid_default": {
        "col": 0,
        "height": 4,
        "hidden": false,
        "row": 4,
        "width": 4
       },
       "report_default": {
        "hidden": false
       }
      }
     }
    },
    "scrolled": false
   },
   "outputs": [],
   "source": [
    "out = widgets.Output()\n",
    "b = antd.Button(description='AAA')\n",
    "@out.capture()\n",
    "def click(button):\n",
    "    print('Hello')\n",
    "b.on_click(click)\n",
    "widgets.VBox([b, out])"
   ]
  },
  {
   "cell_type": "markdown",
   "metadata": {
    "extensions": {
     "jupyter_dashboards": {
      "version": 1,
      "views": {
       "grid_default": {
        "col": 4,
        "height": 4,
        "hidden": false,
        "row": 4,
        "width": 4
       },
       "report_default": {
        "hidden": false
       }
      }
     }
    }
   },
   "source": [
    "## Switch"
   ]
  },
  {
   "cell_type": "code",
   "execution_count": null,
   "metadata": {
    "ExecuteTime": {
     "end_time": "2019-04-13T09:44:01.153258Z",
     "start_time": "2019-04-13T09:44:01.142306Z"
    },
    "extensions": {
     "jupyter_dashboards": {
      "version": 1,
      "views": {
       "grid_default": {
        "col": 8,
        "height": 4,
        "hidden": false,
        "row": 4,
        "width": 4
       },
       "report_default": {
        "hidden": false
       }
      }
     }
    }
   },
   "outputs": [],
   "source": [
    "s = antd.Switch(checked=True, checked_children='開', un_checked_children='關', size=\"small\")\n",
    "s"
   ]
  },
  {
   "cell_type": "code",
   "execution_count": null,
   "metadata": {
    "ExecuteTime": {
     "end_time": "2019-04-13T09:44:01.157262Z",
     "start_time": "2019-04-13T09:44:01.155254Z"
    },
    "extensions": {
     "jupyter_dashboards": {
      "version": 1,
      "views": {
       "grid_default": {
        "hidden": true
       },
       "report_default": {
        "hidden": true
       }
      }
     }
    }
   },
   "outputs": [],
   "source": [
    "s.checked = True"
   ]
  },
  {
   "cell_type": "markdown",
   "metadata": {
    "extensions": {
     "jupyter_dashboards": {
      "version": 1,
      "views": {
       "grid_default": {
        "col": 0,
        "height": 4,
        "hidden": false,
        "row": 8,
        "width": 4
       },
       "report_default": {
        "hidden": false
       }
      }
     }
    }
   },
   "source": [
    "## Checkbox"
   ]
  },
  {
   "cell_type": "code",
   "execution_count": null,
   "metadata": {
    "ExecuteTime": {
     "end_time": "2019-04-13T09:44:01.171212Z",
     "start_time": "2019-04-13T09:44:01.159244Z"
    },
    "extensions": {
     "jupyter_dashboards": {
      "version": 1,
      "views": {
       "grid_default": {
        "col": 4,
        "height": 4,
        "hidden": false,
        "row": 8,
        "width": 4
       },
       "report_default": {
        "hidden": false
       }
      }
     }
    }
   },
   "outputs": [],
   "source": [
    "c = antd.Checkbox(description='AAA')\n",
    "c"
   ]
  },
  {
   "cell_type": "code",
   "execution_count": null,
   "metadata": {
    "ExecuteTime": {
     "end_time": "2019-04-13T09:44:01.178194Z",
     "start_time": "2019-04-13T09:44:01.173207Z"
    },
    "extensions": {
     "jupyter_dashboards": {
      "version": 1,
      "views": {
       "grid_default": {
        "hidden": true
       },
       "report_default": {
        "hidden": true
       }
      }
     }
    }
   },
   "outputs": [],
   "source": [
    "c.checked = False"
   ]
  },
  {
   "cell_type": "markdown",
   "metadata": {},
   "source": [
    "## Radio"
   ]
  },
  {
   "cell_type": "code",
   "execution_count": null,
   "metadata": {
    "ExecuteTime": {
     "end_time": "2019-04-13T09:44:01.206118Z",
     "start_time": "2019-04-13T09:44:01.180189Z"
    }
   },
   "outputs": [],
   "source": [
    "rg = antd.RadioGroup(\n",
    "    children=[\n",
    "        antd.Radio(content='Apple', value='1'),\n",
    "        antd.Radio(content='Pear', value='2'),\n",
    "        antd.Radio(content='Orange', value='3')\n",
    "    ]\n",
    ")\n",
    "rg"
   ]
  },
  {
   "cell_type": "code",
   "execution_count": null,
   "metadata": {
    "ExecuteTime": {
     "end_time": "2019-04-13T09:44:01.212102Z",
     "start_time": "2019-04-13T09:44:01.208114Z"
    }
   },
   "outputs": [],
   "source": [
    "rg.value"
   ]
  },
  {
   "cell_type": "markdown",
   "metadata": {
    "extensions": {
     "jupyter_dashboards": {
      "version": 1,
      "views": {
       "grid_default": {
        "col": 8,
        "height": 4,
        "hidden": false,
        "row": 8,
        "width": 4
       },
       "report_default": {
        "hidden": false
       }
      }
     }
    }
   },
   "source": [
    "## Select"
   ]
  },
  {
   "cell_type": "code",
   "execution_count": null,
   "metadata": {
    "ExecuteTime": {
     "end_time": "2019-04-13T09:44:01.224070Z",
     "start_time": "2019-04-13T09:44:01.214097Z"
    },
    "extensions": {
     "jupyter_dashboards": {
      "version": 1,
      "views": {
       "grid_default": {
        "col": 0,
        "height": 4,
        "hidden": false,
        "row": 12,
        "width": null
       },
       "report_default": {
        "hidden": false
       }
      }
     }
    }
   },
   "outputs": [],
   "source": [
    "# Note: SelectOption does not support yet\n",
    "# options = [\n",
    "#     antd.SelectOption(description='AAA', key='0'),\n",
    "#     antd.SelectOption(description='BBB', key='1'),\n",
    "#     antd.SelectOption(description='CCC', key='2')\n",
    "# ]\n",
    "options = ['AAA', 'BBB', 'CCC']\n",
    "\n",
    "sel = antd.Select(options=options, value=['AAA', 'BBB'], mode='multiple', style={'width': '33%'})\n",
    "sel"
   ]
  },
  {
   "cell_type": "code",
   "execution_count": null,
   "metadata": {
    "ExecuteTime": {
     "end_time": "2019-04-13T09:44:01.235046Z",
     "start_time": "2019-04-13T09:44:01.226065Z"
    },
    "extensions": {
     "jupyter_dashboards": {
      "version": 1,
      "views": {
       "grid_default": {
        "col": 0,
        "height": 4,
        "hidden": false,
        "row": 16,
        "width": 4
       },
       "report_default": {
        "hidden": false
       }
      }
     }
    }
   },
   "outputs": [],
   "source": [
    "sel.value"
   ]
  },
  {
   "cell_type": "markdown",
   "metadata": {},
   "source": [
    "## Slider"
   ]
  },
  {
   "cell_type": "code",
   "execution_count": null,
   "metadata": {
    "ExecuteTime": {
     "end_time": "2019-04-13T09:44:01.247017Z",
     "start_time": "2019-04-13T09:44:01.237050Z"
    }
   },
   "outputs": [],
   "source": [
    "antd.Slider(value=10, min=0, max=100)"
   ]
  },
  {
   "cell_type": "markdown",
   "metadata": {
    "extensions": {
     "jupyter_dashboards": {
      "version": 1,
      "views": {
       "grid_default": {
        "col": 4,
        "height": 4,
        "hidden": false,
        "row": 16,
        "width": 4
       },
       "report_default": {
        "hidden": false
       }
      }
     }
    }
   },
   "source": [
    "## DatePicker"
   ]
  },
  {
   "cell_type": "code",
   "execution_count": null,
   "metadata": {
    "ExecuteTime": {
     "end_time": "2019-04-13T09:44:01.272941Z",
     "start_time": "2019-04-13T09:44:01.248007Z"
    },
    "extensions": {
     "jupyter_dashboards": {
      "version": 1,
      "views": {
       "grid_default": {
        "col": 8,
        "height": 5,
        "hidden": false,
        "row": 16,
        "width": null
       },
       "report_default": {
        "hidden": false
       }
      }
     }
    }
   },
   "outputs": [],
   "source": [
    "dp = antd.DatePicker(value='2019-01-01')\n",
    "rp = antd.RangePicker(start_time='2019-01-01', end_time='2019-01-05')\n",
    "mp = antd.MonthPicker(value='2019-04')\n",
    "wp = antd.WeekPicker(value='2019-3')\n",
    "\n",
    "widgets.VBox([dp, rp, mp, wp])"
   ]
  },
  {
   "cell_type": "code",
   "execution_count": null,
   "metadata": {
    "ExecuteTime": {
     "end_time": "2019-04-13T09:44:01.279921Z",
     "start_time": "2019-04-13T09:44:01.273937Z"
    },
    "extensions": {
     "jupyter_dashboards": {
      "version": 1,
      "views": {
       "grid_default": {
        "col": 0,
        "height": 4,
        "hidden": false,
        "row": 20,
        "width": 4
       },
       "report_default": {
        "hidden": false
       }
      }
     }
    }
   },
   "outputs": [],
   "source": [
    "dp.value"
   ]
  },
  {
   "cell_type": "code",
   "execution_count": null,
   "metadata": {
    "ExecuteTime": {
     "end_time": "2019-04-13T09:44:01.287900Z",
     "start_time": "2019-04-13T09:44:01.280918Z"
    },
    "extensions": {
     "jupyter_dashboards": {
      "version": 1,
      "views": {
       "grid_default": {
        "col": 4,
        "height": 4,
        "hidden": false,
        "row": 20,
        "width": 4
       },
       "report_default": {
        "hidden": false
       }
      }
     }
    }
   },
   "outputs": [],
   "source": [
    "rp.start_time, rp.end_time"
   ]
  },
  {
   "cell_type": "code",
   "execution_count": null,
   "metadata": {
    "ExecuteTime": {
     "end_time": "2019-04-13T09:44:01.294880Z",
     "start_time": "2019-04-13T09:44:01.289911Z"
    },
    "extensions": {
     "jupyter_dashboards": {
      "version": 1,
      "views": {
       "grid_default": {
        "col": 8,
        "height": 4,
        "hidden": false,
        "row": 21,
        "width": 4
       },
       "report_default": {
        "hidden": false
       }
      }
     }
    }
   },
   "outputs": [],
   "source": [
    "mp.value"
   ]
  },
  {
   "cell_type": "code",
   "execution_count": null,
   "metadata": {
    "ExecuteTime": {
     "end_time": "2019-04-13T09:44:01.302859Z",
     "start_time": "2019-04-13T09:44:01.295880Z"
    },
    "extensions": {
     "jupyter_dashboards": {
      "version": 1,
      "views": {
       "grid_default": {
        "col": 0,
        "height": 4,
        "hidden": false,
        "row": 24,
        "width": 4
       },
       "report_default": {
        "hidden": false
       }
      }
     }
    }
   },
   "outputs": [],
   "source": [
    "wp.value"
   ]
  },
  {
   "cell_type": "markdown",
   "metadata": {},
   "source": [
    "## Input & Form"
   ]
  },
  {
   "cell_type": "code",
   "execution_count": null,
   "metadata": {
    "ExecuteTime": {
     "end_time": "2019-04-13T09:44:01.313830Z",
     "start_time": "2019-04-13T09:44:01.303856Z"
    }
   },
   "outputs": [],
   "source": [
    "i = antd.Input(value='123')\n",
    "i"
   ]
  },
  {
   "cell_type": "code",
   "execution_count": null,
   "metadata": {
    "ExecuteTime": {
     "end_time": "2019-04-13T09:44:01.319813Z",
     "start_time": "2019-04-13T09:44:01.315824Z"
    }
   },
   "outputs": [],
   "source": [
    "i.value"
   ]
  },
  {
   "cell_type": "code",
   "execution_count": null,
   "metadata": {
    "ExecuteTime": {
     "end_time": "2019-04-13T09:44:01.332779Z",
     "start_time": "2019-04-13T09:44:01.320810Z"
    }
   },
   "outputs": [],
   "source": [
    "inum = antd.InputNumber(value=10, max=100, min=0)\n",
    "inum"
   ]
  },
  {
   "cell_type": "code",
   "execution_count": null,
   "metadata": {
    "ExecuteTime": {
     "end_time": "2019-04-13T09:44:01.339761Z",
     "start_time": "2019-04-13T09:44:01.333777Z"
    }
   },
   "outputs": [],
   "source": [
    "inum.value"
   ]
  },
  {
   "cell_type": "code",
   "execution_count": null,
   "metadata": {
    "ExecuteTime": {
     "end_time": "2019-04-13T09:44:01.353724Z",
     "start_time": "2019-04-13T09:44:01.341756Z"
    }
   },
   "outputs": [],
   "source": [
    "ta = antd.TextArea(value='123')\n",
    "ta"
   ]
  },
  {
   "cell_type": "code",
   "execution_count": null,
   "metadata": {
    "ExecuteTime": {
     "end_time": "2019-04-13T09:44:01.359709Z",
     "start_time": "2019-04-13T09:44:01.354722Z"
    }
   },
   "outputs": [],
   "source": [
    "ta.value = 10"
   ]
  },
  {
   "cell_type": "code",
   "execution_count": null,
   "metadata": {
    "ExecuteTime": {
     "end_time": "2019-04-13T09:44:01.373671Z",
     "start_time": "2019-04-13T09:44:01.361702Z"
    }
   },
   "outputs": [],
   "source": [
    "antd.Search(value='AAA')"
   ]
  },
  {
   "cell_type": "code",
   "execution_count": null,
   "metadata": {
    "ExecuteTime": {
     "end_time": "2019-04-13T09:44:01.383658Z",
     "start_time": "2019-04-13T09:44:01.374669Z"
    }
   },
   "outputs": [],
   "source": [
    "antd.Password(value='AAA')"
   ]
  },
  {
   "cell_type": "code",
   "execution_count": null,
   "metadata": {
    "ExecuteTime": {
     "end_time": "2019-04-13T09:44:01.416555Z",
     "start_time": "2019-04-13T09:44:01.384641Z"
    }
   },
   "outputs": [],
   "source": [
    "antd.Form(\n",
    "    label_col={\n",
    "        'xs': {'span': 24},\n",
    "        'sm': {'span': 4}\n",
    "    },\n",
    "    wrapper_col={\n",
    "        'xs': {'span': 24},\n",
    "        'sm': {'span': 10}\n",
    "    },\n",
    "    children=[\n",
    "        antd.FormItem(label=\"Name\", children=[antd.Input(value='My Name')], style={'margin-bottom':'2px'}),\n",
    "        antd.FormItem(label=\"Amount\", children=[antd.InputNumber(value=10, max=100, min=0)], style={'margin-bottom':'2px'}),\n",
    "        antd.FormItem(label=\"Description\", children=[antd.TextArea(value='123')], style={'margin-bottom':'2px'})\n",
    "    ]\n",
    ")"
   ]
  },
  {
   "cell_type": "markdown",
   "metadata": {},
   "source": [
    "## Cascader"
   ]
  },
  {
   "cell_type": "code",
   "execution_count": null,
   "metadata": {
    "ExecuteTime": {
     "end_time": "2019-04-13T09:44:01.430517Z",
     "start_time": "2019-04-13T09:44:01.417552Z"
    }
   },
   "outputs": [],
   "source": [
    "options = [{\n",
    "    'value': 'zhejiang',\n",
    "    'label': 'Zhejiang',\n",
    "    'children': [{\n",
    "        'value': 'hangzhou',\n",
    "        'label': 'Hangzhou',\n",
    "    }],\n",
    "}, {\n",
    "    'value': 'jiangsu',\n",
    "    'label': 'Jiangsu',\n",
    "    'children': [{\n",
    "        'value': 'nanjing',\n",
    "        'label': 'Nanjing',\n",
    "        'children': [{\n",
    "            'value': 'zhonghuamen',\n",
    "            'label': 'Zhong Hua Men',\n",
    "        }],\n",
    "    }],\n",
    "}]\n",
    "antd.Cascader(options=options)"
   ]
  },
  {
   "cell_type": "markdown",
   "metadata": {},
   "source": [
    "## Transfer"
   ]
  },
  {
   "cell_type": "code",
   "execution_count": null,
   "metadata": {
    "ExecuteTime": {
     "end_time": "2019-04-13T09:48:29.625530Z",
     "start_time": "2019-04-13T09:48:29.616552Z"
    }
   },
   "outputs": [],
   "source": [
    "data_source = [\n",
    "    {'key': 'A', 'title': 'AAA', 'description': 'AAA_', 'disabled': False},\n",
    "    {'key': 'B', 'title': 'BBB', 'description': 'BBB_', 'disabled': False},\n",
    "    {'key': 'C', 'title': 'CCC', 'description': 'CCC_', 'disabled': False}\n",
    "]\n",
    "tf = antd.Transfer(data_source=data_source, show_search=True, target_keys=['A'])\n",
    "tf"
   ]
  },
  {
   "cell_type": "markdown",
   "metadata": {},
   "source": [
    "## Card"
   ]
  },
  {
   "cell_type": "code",
   "execution_count": null,
   "metadata": {
    "ExecuteTime": {
     "end_time": "2019-04-13T09:49:02.650109Z",
     "start_time": "2019-04-13T09:49:02.641163Z"
    }
   },
   "outputs": [],
   "source": [
    "antd.Card(title='Title', size='small', style={'width':'50%'}, children=[\n",
    "    tf, dp, rp\n",
    "])"
   ]
  },
  {
   "cell_type": "markdown",
   "metadata": {},
   "source": [
    "## Timeline"
   ]
  },
  {
   "cell_type": "code",
   "execution_count": null,
   "metadata": {
    "ExecuteTime": {
     "end_time": "2019-04-13T09:44:01.491355Z",
     "start_time": "2019-04-13T09:44:01.444481Z"
    }
   },
   "outputs": [],
   "source": [
    "antd.Timeline(\n",
    "    mode='alternate',\n",
    "    children=[\n",
    "        antd.TimelineItem(children=[\n",
    "            widgets.VBox([\n",
    "                antd.Icon(type='home'), \n",
    "                antd.Slider(value=10, min=0, max=100)\n",
    "            ])\n",
    "        ]),\n",
    "        antd.TimelineItem(children=[antd.Progress(percent=20, type='line', style={'width': '33%'})]),\n",
    "        antd.TimelineItem(children=[antd.Text(content='ipyantd', type=\"danger\")])\n",
    "    ]\n",
    ")"
   ]
  },
  {
   "cell_type": "markdown",
   "metadata": {
    "extensions": {
     "jupyter_dashboards": {
      "version": 1,
      "views": {
       "grid_default": {
        "col": 4,
        "height": 4,
        "hidden": false,
        "row": 24,
        "width": 4
       },
       "report_default": {
        "hidden": false
       }
      }
     }
    }
   },
   "source": [
    "## Progress"
   ]
  },
  {
   "cell_type": "code",
   "execution_count": null,
   "metadata": {
    "ExecuteTime": {
     "end_time": "2019-04-13T09:44:01.510305Z",
     "start_time": "2019-04-13T09:44:01.492352Z"
    },
    "extensions": {
     "jupyter_dashboards": {
      "version": 1,
      "views": {
       "grid_default": {
        "col": 8,
        "height": 6,
        "hidden": false,
        "row": 25,
        "width": null
       },
       "report_default": {
        "hidden": false
       }
      }
     }
    }
   },
   "outputs": [],
   "source": [
    "pg1 = antd.Progress(percent=20, type='line', style={'width': '33%'})\n",
    "pg2 = antd.Progress(percent=100, type='circle', style={'width': '20%'})\n",
    "widgets.VBox([pg1, pg2])"
   ]
  },
  {
   "cell_type": "code",
   "execution_count": null,
   "metadata": {
    "ExecuteTime": {
     "end_time": "2019-04-13T09:44:01.518283Z",
     "start_time": "2019-04-13T09:44:01.513298Z"
    },
    "extensions": {
     "jupyter_dashboards": {
      "version": 1,
      "views": {
       "grid_default": {
        "col": 0,
        "height": 4,
        "hidden": false,
        "row": 28,
        "width": 4
       },
       "report_default": {
        "hidden": false
       }
      }
     }
    }
   },
   "outputs": [],
   "source": [
    "pg1.percent"
   ]
  },
  {
   "cell_type": "markdown",
   "metadata": {},
   "source": [
    "## Steps"
   ]
  },
  {
   "cell_type": "code",
   "execution_count": null,
   "metadata": {
    "ExecuteTime": {
     "end_time": "2019-04-13T09:44:01.556181Z",
     "start_time": "2019-04-13T09:44:01.520281Z"
    }
   },
   "outputs": [],
   "source": [
    "step_list = [\n",
    "    antd.Step(title='AAA', description='S1'),\n",
    "    antd.Step(title='BBB', description='S2'),\n",
    "    antd.Step(title='CCC', description='S3'),\n",
    "    antd.Step(title='DDD', description='S4'),\n",
    "    antd.Step(title='EEE', description='S5')\n",
    "]\n",
    "\n",
    "steps = antd.Steps(\n",
    "    current=1, \n",
    "#    direction='vertical', \n",
    "#     label_placement='horizontal', \n",
    "#    progress_dot=True,\n",
    "    size='default',\n",
    "#     status='process',\n",
    "    initial=0,\n",
    "    children=step_list\n",
    ")\n",
    "\n",
    "steps"
   ]
  },
  {
   "cell_type": "code",
   "execution_count": null,
   "metadata": {
    "ExecuteTime": {
     "end_time": "2019-04-13T09:44:01.564160Z",
     "start_time": "2019-04-13T09:44:01.558176Z"
    }
   },
   "outputs": [],
   "source": [
    "steps.current"
   ]
  },
  {
   "cell_type": "code",
   "execution_count": null,
   "metadata": {
    "ExecuteTime": {
     "end_time": "2019-04-13T09:44:03.071042Z",
     "start_time": "2019-04-13T09:44:01.566155Z"
    }
   },
   "outputs": [],
   "source": [
    "import time\n",
    "\n",
    "for idx in range(5):\n",
    "    steps.current = idx\n",
    "    time.sleep(0.3)"
   ]
  },
  {
   "cell_type": "markdown",
   "metadata": {},
   "source": [
    "## Drawer"
   ]
  },
  {
   "cell_type": "code",
   "execution_count": null,
   "metadata": {
    "ExecuteTime": {
     "end_time": "2019-04-13T09:44:03.082001Z",
     "start_time": "2019-04-13T09:44:03.072030Z"
    }
   },
   "outputs": [],
   "source": [
    "drawer = antd.Drawer(title='Test', visible=True)\n",
    "drawer"
   ]
  },
  {
   "cell_type": "code",
   "execution_count": null,
   "metadata": {
    "ExecuteTime": {
     "end_time": "2019-04-13T09:44:04.088244Z",
     "start_time": "2019-04-13T09:44:03.082999Z"
    }
   },
   "outputs": [],
   "source": [
    "drawer.visible = True\n",
    "time.sleep(1)\n",
    "drawer.visible = False"
   ]
  },
  {
   "cell_type": "code",
   "execution_count": null,
   "metadata": {
    "ExecuteTime": {
     "end_time": "2019-04-13T09:44:04.099193Z",
     "start_time": "2019-04-13T09:44:04.090224Z"
    }
   },
   "outputs": [],
   "source": [
    "b2 = antd.Button(description='Open')\n",
    "def click(button):\n",
    "    drawer.visible = not drawer.visible\n",
    "b2.on_click(click)\n",
    "b2"
   ]
  },
  {
   "cell_type": "markdown",
   "metadata": {},
   "source": [
    "## Model"
   ]
  },
  {
   "cell_type": "code",
   "execution_count": null,
   "metadata": {
    "ExecuteTime": {
     "end_time": "2019-04-13T09:44:04.111176Z",
     "start_time": "2019-04-13T09:44:04.101188Z"
    }
   },
   "outputs": [],
   "source": [
    "antd.Model(title='123', visible=True)"
   ]
  },
  {
   "cell_type": "markdown",
   "metadata": {},
   "source": [
    "## Popconfirm"
   ]
  },
  {
   "cell_type": "code",
   "execution_count": null,
   "metadata": {
    "ExecuteTime": {
     "end_time": "2019-04-13T09:44:04.123129Z",
     "start_time": "2019-04-13T09:44:04.113156Z"
    }
   },
   "outputs": [],
   "source": [
    "antd.Popconfirm()"
   ]
  }
 ],
 "metadata": {
  "extensions": {
   "jupyter_dashboards": {
    "activeView": "grid_default",
    "version": 1,
    "views": {
     "grid_default": {
      "cellMargin": 10,
      "defaultCellHeight": 20,
      "maxColumns": 12,
      "name": "grid",
      "type": "grid"
     },
     "report_default": {
      "name": "report",
      "type": "report"
     }
    }
   }
  },
  "kernelspec": {
   "display_name": "Python 3",
   "language": "python",
   "name": "python3"
  },
  "language_info": {
   "codemirror_mode": {
    "name": "ipython",
    "version": 3
   },
   "file_extension": ".py",
   "mimetype": "text/x-python",
   "name": "python",
   "nbconvert_exporter": "python",
   "pygments_lexer": "ipython3",
   "version": "3.6.5"
  },
  "toc": {
   "base_numbering": 1,
   "nav_menu": {},
   "number_sections": true,
   "sideBar": true,
   "skip_h1_title": false,
   "title_cell": "Table of Contents",
   "title_sidebar": "Contents",
   "toc_cell": false,
   "toc_position": {},
   "toc_section_display": true,
   "toc_window_display": false
  },
  "varInspector": {
   "cols": {
    "lenName": 16,
    "lenType": 16,
    "lenVar": 40
   },
   "kernels_config": {
    "python": {
     "delete_cmd_postfix": "",
     "delete_cmd_prefix": "del ",
     "library": "var_list.py",
     "varRefreshCmd": "print(var_dic_list())"
    },
    "r": {
     "delete_cmd_postfix": ") ",
     "delete_cmd_prefix": "rm(",
     "library": "var_list.r",
     "varRefreshCmd": "cat(var_dic_list()) "
    }
   },
   "types_to_exclude": [
    "module",
    "function",
    "builtin_function_or_method",
    "instance",
    "_Feature"
   ],
   "window_display": false
  }
 },
 "nbformat": 4,
 "nbformat_minor": 2
}
